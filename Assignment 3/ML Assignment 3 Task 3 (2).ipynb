{
 "cells": [
  {
   "cell_type": "code",
   "execution_count": 1,
   "id": "d571b472",
   "metadata": {},
   "outputs": [],
   "source": [
    "import numpy as np\n",
    "import pandas as pd\n",
    "import tensorflow as tf\n",
    "from tensorflow import keras\n",
    "from tensorflow.keras import layers\n",
    "from sklearn.model_selection import train_test_split\n",
    "from tensorflow.keras.utils import plot_model\n",
    "from tensorflow.keras.callbacks import ModelCheckpoint\n",
    "from sklearn.preprocessing import LabelEncoder"
   ]
  },
  {
   "cell_type": "code",
   "execution_count": 2,
   "id": "3d130890",
   "metadata": {},
   "outputs": [
    {
     "name": "stdout",
     "output_type": "stream",
     "text": [
      "                                                  Path     Identity  \\\n",
      "0    C:\\Users\\User\\Desktop\\Machine Learning\\Persona...  Hamza Ahmad   \n",
      "1    C:\\Users\\User\\Desktop\\Machine Learning\\Persona...  Hamza Ahmad   \n",
      "2    C:\\Users\\User\\Desktop\\Machine Learning\\Persona...  Hamza Ahmad   \n",
      "3    C:\\Users\\User\\Desktop\\Machine Learning\\Persona...  Hamza Ahmad   \n",
      "4    C:\\Users\\User\\Desktop\\Machine Learning\\Persona...  Hamza Ahmad   \n",
      "..                                                 ...          ...   \n",
      "194  C:\\Users\\User\\Desktop\\Machine Learning\\Other\\G...      Unknown   \n",
      "195  C:\\Users\\User\\Desktop\\Machine Learning\\Other\\G...      Unknown   \n",
      "196  C:\\Users\\User\\Desktop\\Machine Learning\\Other\\G...      Unknown   \n",
      "197  C:\\Users\\User\\Desktop\\Machine Learning\\Other\\G...      Unknown   \n",
      "198  C:\\Users\\User\\Desktop\\Machine Learning\\Other\\G...      Unknown   \n",
      "\n",
      "      Expression  Age  \n",
      "0        Smiling   23  \n",
      "1    Not Smiling   23  \n",
      "2    Not Smiling   23  \n",
      "3        Smiling   23  \n",
      "4    Not Smiling   23  \n",
      "..           ...  ...  \n",
      "194      Smiling   68  \n",
      "195  Not Smiling   59  \n",
      "196  Not Smiling   72  \n",
      "197      Smiling   42  \n",
      "198  Not Smiling   73  \n",
      "\n",
      "[199 rows x 4 columns]\n"
     ]
    }
   ],
   "source": [
    "df = pd.read_csv(r\"C:\\Users\\User\\Desktop\\Machine Learning\\ML_Task_01\\dataset_combined.csv\")\n",
    "print(df)"
   ]
  },
  {
   "cell_type": "code",
   "execution_count": 3,
   "id": "592488db",
   "metadata": {},
   "outputs": [],
   "source": [
    "train, test = train_test_split(df, test_size=0.3, random_state = 8, stratify=df['Identity'])"
   ]
  },
  {
   "cell_type": "code",
   "execution_count": 4,
   "id": "17d543bd",
   "metadata": {},
   "outputs": [
    {
     "data": {
      "text/html": [
       "<div>\n",
       "<style scoped>\n",
       "    .dataframe tbody tr th:only-of-type {\n",
       "        vertical-align: middle;\n",
       "    }\n",
       "\n",
       "    .dataframe tbody tr th {\n",
       "        vertical-align: top;\n",
       "    }\n",
       "\n",
       "    .dataframe thead th {\n",
       "        text-align: right;\n",
       "    }\n",
       "</style>\n",
       "<table border=\"1\" class=\"dataframe\">\n",
       "  <thead>\n",
       "    <tr style=\"text-align: right;\">\n",
       "      <th></th>\n",
       "      <th>Age</th>\n",
       "    </tr>\n",
       "  </thead>\n",
       "  <tbody>\n",
       "    <tr>\n",
       "      <th>count</th>\n",
       "      <td>70.0</td>\n",
       "    </tr>\n",
       "    <tr>\n",
       "      <th>mean</th>\n",
       "      <td>23.0</td>\n",
       "    </tr>\n",
       "    <tr>\n",
       "      <th>std</th>\n",
       "      <td>0.0</td>\n",
       "    </tr>\n",
       "    <tr>\n",
       "      <th>min</th>\n",
       "      <td>23.0</td>\n",
       "    </tr>\n",
       "    <tr>\n",
       "      <th>25%</th>\n",
       "      <td>23.0</td>\n",
       "    </tr>\n",
       "    <tr>\n",
       "      <th>50%</th>\n",
       "      <td>23.0</td>\n",
       "    </tr>\n",
       "    <tr>\n",
       "      <th>75%</th>\n",
       "      <td>23.0</td>\n",
       "    </tr>\n",
       "    <tr>\n",
       "      <th>max</th>\n",
       "      <td>23.0</td>\n",
       "    </tr>\n",
       "  </tbody>\n",
       "</table>\n",
       "</div>"
      ],
      "text/plain": [
       "        Age\n",
       "count  70.0\n",
       "mean   23.0\n",
       "std     0.0\n",
       "min    23.0\n",
       "25%    23.0\n",
       "50%    23.0\n",
       "75%    23.0\n",
       "max    23.0"
      ]
     },
     "execution_count": 4,
     "metadata": {},
     "output_type": "execute_result"
    }
   ],
   "source": [
    "train.loc[train['Identity'] == \"Hamza Ahmad\"].describe()"
   ]
  },
  {
   "cell_type": "code",
   "execution_count": 5,
   "id": "a719c764",
   "metadata": {},
   "outputs": [],
   "source": [
    "X_data = train['Path']\n",
    "X_tdata = test['Path']\n",
    "y1_train = train['Identity']\n",
    "y2_train = train['Expression']\n",
    "y3_train = train['Age']\n",
    "y1_test = test['Identity']\n",
    "y2_test = test['Expression']\n",
    "y3_test = test['Age']"
   ]
  },
  {
   "cell_type": "code",
   "execution_count": 6,
   "id": "c21bb345",
   "metadata": {},
   "outputs": [
    {
     "data": {
      "text/plain": [
       "119        Unknown\n",
       "184        Unknown\n",
       "137        Unknown\n",
       "147        Unknown\n",
       "57     Hamza Ahmad\n",
       "Name: Identity, dtype: object"
      ]
     },
     "execution_count": 6,
     "metadata": {},
     "output_type": "execute_result"
    }
   ],
   "source": [
    "y1_train.head()"
   ]
  },
  {
   "cell_type": "code",
   "execution_count": 7,
   "id": "cb7859c8",
   "metadata": {},
   "outputs": [
    {
     "name": "stdout",
     "output_type": "stream",
     "text": [
      "119        Unknown\n",
      "184        Unknown\n",
      "137        Unknown\n",
      "147        Unknown\n",
      "57     Hamza Ahmad\n",
      "          ...     \n",
      "146        Unknown\n",
      "99     Hamza Ahmad\n",
      "173        Unknown\n",
      "112        Unknown\n",
      "196        Unknown\n",
      "Name: Identity, Length: 139, dtype: object\n",
      "[1 1 1 1 0 1 0 0 1 0 0 1 1 0 1 0 0 1 0 0 1 0 0 0 0 1 0 1 1 0 1 1 0 1 0 1 0\n",
      " 0 1 1 0 1 0 0 0 1 1 0 0 0 0 0 1 1 0 1 1 0 1 1 0 1 1 0 1 0 0 0 1 1 0 0 0 0\n",
      " 0 0 0 1 0 0 0 1 1 0 1 0 0 0 1 1 1 1 0 1 1 0 0 0 1 0 1 0 1 1 1 1 1 1 0 0 0\n",
      " 0 1 0 1 1 1 1 0 1 1 1 0 0 1 1 0 0 0 1 1 1 0 0 1 0 1 1 1]\n",
      "\n",
      "[0 0 0 0 1 0 0 1 1 1 1 1 1 1 1 1 0 0 1 1 0 1 1 1 1 0 1 0 1 1 0 0 0 1 0 0 0\n",
      " 0 1 0 0 1 0 1 1 1 0 1 1 0 0 0 0 1 0 0 1 1 0 0]\n"
     ]
    }
   ],
   "source": [
    "label_encoder = LabelEncoder()\n",
    "label_encoder.fit(y1_train)\n",
    "print(y1_train)\n",
    "encoded_labels1 = label_encoder.transform(y1_train)\n",
    "print(encoded_labels1)\n",
    "encoded_labels2 = label_encoder.transform(y1_test)\n",
    "print()\n",
    "print(encoded_labels2)"
   ]
  },
  {
   "cell_type": "code",
   "execution_count": 8,
   "id": "f021da1c",
   "metadata": {},
   "outputs": [],
   "source": [
    "import skimage\n",
    "from skimage import io\n",
    "from skimage import transform\n",
    "\n",
    "def preprocess_image(path):\n",
    "    curr_image = io.imread(path)\n",
    "    img_resize = transform.resize(curr_image, output_shape=(32, 32, 3))\n",
    "    img_reshape = np.reshape(img_resize, (32 * 32 * 3))\n",
    "    return img_reshape / 255."
   ]
  },
  {
   "cell_type": "code",
   "execution_count": 9,
   "id": "0f8de569",
   "metadata": {},
   "outputs": [],
   "source": [
    "X_train = np.array([preprocess_image(path) for path in X_data])\n",
    "X_test = np.array([preprocess_image(path) for path in X_tdata])"
   ]
  },
  {
   "cell_type": "code",
   "execution_count": 10,
   "id": "e023a251",
   "metadata": {},
   "outputs": [
    {
     "name": "stdout",
     "output_type": "stream",
     "text": [
      "[[1.66328144e-09 1.48220307e-10 3.34815671e-09 ... 2.63400130e-04\n",
      "  2.22062786e-04 2.04710808e-04]\n",
      " [1.99298316e-04 2.02587713e-04 1.88838869e-04 ... 6.28311026e-04\n",
      "  6.06393260e-04 8.88015225e-04]\n",
      " [3.10124324e-09 1.57079063e-10 1.57079063e-10 ... 1.81432339e-03\n",
      "  1.41550950e-03 9.77741324e-04]\n",
      " ...\n",
      " [5.04840641e-04 9.56297262e-04 1.39210290e-03 ... 1.38349955e-04\n",
      "  1.58237794e-04 1.28406035e-04]\n",
      " [1.61878305e-03 2.13411590e-03 1.80315050e-03 ... 1.23263813e-03\n",
      "  1.85697672e-03 2.24190460e-03]\n",
      " [4.68443181e-05 5.84830333e-04 5.93216721e-04 ... 2.68682389e-03\n",
      "  2.61408306e-03 2.28979254e-03]]\n",
      "\n",
      "[[2.75277989e-03 2.60174350e-03 2.45682991e-03 ... 4.36705111e-04\n",
      "  5.07810901e-04 5.67416199e-04]\n",
      " [2.34106457e-03 2.25178633e-03 1.96361216e-03 ... 3.41715368e-03\n",
      "  3.41914867e-03 3.41800007e-03]\n",
      " [2.14927631e-04 1.84170230e-04 2.61063733e-04 ... 1.04921582e-04\n",
      "  8.23339448e-05 1.49411809e-04]\n",
      " ...\n",
      " [1.28461642e-04 2.10115445e-05 3.62148388e-05 ... 5.11418633e-05\n",
      "  5.08983248e-05 4.92253953e-05]\n",
      " [2.33774172e-03 2.05714772e-03 1.83942471e-03 ... 3.48423563e-04\n",
      "  4.69907944e-04 6.10403516e-04]\n",
      " [3.56410490e-03 3.07061025e-03 2.59123581e-03 ... 9.68124697e-04\n",
      "  8.08767662e-04 7.37399108e-04]]\n"
     ]
    }
   ],
   "source": [
    "print(X_train)\n",
    "print()\n",
    "print(X_test)"
   ]
  },
  {
   "cell_type": "code",
   "execution_count": 11,
   "id": "f68cc7c4",
   "metadata": {},
   "outputs": [],
   "source": [
    "input_layer = keras.layers.Input(shape=(32*32*3,))\n",
    "X = keras.layers.Dense(1, activation='sigmoid')(input_layer)\n",
    "model = keras.Model(inputs = input_layer, outputs = X)"
   ]
  },
  {
   "cell_type": "code",
   "execution_count": 12,
   "id": "a506c057",
   "metadata": {
    "scrolled": true
   },
   "outputs": [
    {
     "name": "stdout",
     "output_type": "stream",
     "text": [
      "Model: \"model\"\n",
      "_________________________________________________________________\n",
      " Layer (type)                Output Shape              Param #   \n",
      "=================================================================\n",
      " input_1 (InputLayer)        [(None, 3072)]            0         \n",
      "                                                                 \n",
      " dense (Dense)               (None, 1)                 3073      \n",
      "                                                                 \n",
      "=================================================================\n",
      "Total params: 3,073\n",
      "Trainable params: 3,073\n",
      "Non-trainable params: 0\n",
      "_________________________________________________________________\n"
     ]
    }
   ],
   "source": [
    "model.summary()"
   ]
  },
  {
   "cell_type": "code",
   "execution_count": 13,
   "id": "c4fe198e",
   "metadata": {},
   "outputs": [],
   "source": [
    "# Define the ModelCheckpoint callback\n",
    "checkpoint_callback = ModelCheckpoint(\n",
    "    filepath='model_checkpoint2.h5',  # Filepath to save the model\n",
    "    monitor='loss',  # Metric to monitor (validation loss in this case)\n",
    "    save_best_only=True,  # Save only the best model\n",
    "    save_weights_only=False,  # Save the entire model (including architecture)\n",
    "    mode='min'  # Mode for comparison (minimizing the monitored metric)\n",
    ")"
   ]
  },
  {
   "cell_type": "code",
   "execution_count": 14,
   "id": "130ed9d4",
   "metadata": {
    "scrolled": true
   },
   "outputs": [
    {
     "name": "stdout",
     "output_type": "stream",
     "text": [
      "Epoch 1/50\n",
      "18/18 [==============================] - 1s 4ms/step - loss: 0.6915 - accuracy: 0.6403\n",
      "Epoch 2/50\n",
      "18/18 [==============================] - 0s 4ms/step - loss: 0.6865 - accuracy: 0.6043\n",
      "Epoch 3/50\n",
      "18/18 [==============================] - 0s 4ms/step - loss: 0.6817 - accuracy: 0.6043\n",
      "Epoch 4/50\n",
      "18/18 [==============================] - 0s 4ms/step - loss: 0.6776 - accuracy: 0.6187\n",
      "Epoch 5/50\n",
      "18/18 [==============================] - 0s 4ms/step - loss: 0.6733 - accuracy: 0.6331\n",
      "Epoch 6/50\n",
      "18/18 [==============================] - 0s 4ms/step - loss: 0.6693 - accuracy: 0.6619\n",
      "Epoch 7/50\n",
      "18/18 [==============================] - 0s 4ms/step - loss: 0.6653 - accuracy: 0.6619\n",
      "Epoch 8/50\n",
      "18/18 [==============================] - 0s 4ms/step - loss: 0.6614 - accuracy: 0.6763\n",
      "Epoch 9/50\n",
      "18/18 [==============================] - 0s 4ms/step - loss: 0.6582 - accuracy: 0.6763\n",
      "Epoch 10/50\n",
      "18/18 [==============================] - 0s 4ms/step - loss: 0.6543 - accuracy: 0.6619\n",
      "Epoch 11/50\n",
      "18/18 [==============================] - 0s 4ms/step - loss: 0.6508 - accuracy: 0.6906\n",
      "Epoch 12/50\n",
      "18/18 [==============================] - 0s 5ms/step - loss: 0.6478 - accuracy: 0.6835\n",
      "Epoch 13/50\n",
      "18/18 [==============================] - 0s 5ms/step - loss: 0.6441 - accuracy: 0.7050\n",
      "Epoch 14/50\n",
      "18/18 [==============================] - 0s 5ms/step - loss: 0.6412 - accuracy: 0.7122\n",
      "Epoch 15/50\n",
      "18/18 [==============================] - 0s 4ms/step - loss: 0.6382 - accuracy: 0.7122\n",
      "Epoch 16/50\n",
      "18/18 [==============================] - 0s 4ms/step - loss: 0.6347 - accuracy: 0.7122\n",
      "Epoch 17/50\n",
      "18/18 [==============================] - 0s 4ms/step - loss: 0.6317 - accuracy: 0.7050\n",
      "Epoch 18/50\n",
      "18/18 [==============================] - 0s 4ms/step - loss: 0.6286 - accuracy: 0.6978\n",
      "Epoch 19/50\n",
      "18/18 [==============================] - 0s 4ms/step - loss: 0.6257 - accuracy: 0.7194\n",
      "Epoch 20/50\n",
      "18/18 [==============================] - 0s 4ms/step - loss: 0.6230 - accuracy: 0.7194\n",
      "Epoch 21/50\n",
      "18/18 [==============================] - 0s 5ms/step - loss: 0.6200 - accuracy: 0.7194\n",
      "Epoch 22/50\n",
      "18/18 [==============================] - 0s 5ms/step - loss: 0.6174 - accuracy: 0.7266\n",
      "Epoch 23/50\n",
      "18/18 [==============================] - 0s 5ms/step - loss: 0.6146 - accuracy: 0.7338\n",
      "Epoch 24/50\n",
      "18/18 [==============================] - 0s 5ms/step - loss: 0.6120 - accuracy: 0.7338\n",
      "Epoch 25/50\n",
      "18/18 [==============================] - 0s 5ms/step - loss: 0.6093 - accuracy: 0.7266\n",
      "Epoch 26/50\n",
      "18/18 [==============================] - 0s 5ms/step - loss: 0.6080 - accuracy: 0.7194\n",
      "Epoch 27/50\n",
      "18/18 [==============================] - 0s 4ms/step - loss: 0.6043 - accuracy: 0.7122\n",
      "Epoch 28/50\n",
      "18/18 [==============================] - 0s 4ms/step - loss: 0.6021 - accuracy: 0.7122\n",
      "Epoch 29/50\n",
      "18/18 [==============================] - 0s 4ms/step - loss: 0.5995 - accuracy: 0.7194\n",
      "Epoch 30/50\n",
      "18/18 [==============================] - 0s 4ms/step - loss: 0.5975 - accuracy: 0.7122\n",
      "Epoch 31/50\n",
      "18/18 [==============================] - 0s 4ms/step - loss: 0.5952 - accuracy: 0.7266\n",
      "Epoch 32/50\n",
      "18/18 [==============================] - 0s 4ms/step - loss: 0.5927 - accuracy: 0.7266\n",
      "Epoch 33/50\n",
      "18/18 [==============================] - 0s 5ms/step - loss: 0.5908 - accuracy: 0.7266\n",
      "Epoch 34/50\n",
      "18/18 [==============================] - 0s 5ms/step - loss: 0.5885 - accuracy: 0.7266\n",
      "Epoch 35/50\n",
      "18/18 [==============================] - 0s 5ms/step - loss: 0.5861 - accuracy: 0.7266\n",
      "Epoch 36/50\n",
      "18/18 [==============================] - 0s 5ms/step - loss: 0.5842 - accuracy: 0.7338\n",
      "Epoch 37/50\n",
      "18/18 [==============================] - 0s 5ms/step - loss: 0.5824 - accuracy: 0.7338\n",
      "Epoch 38/50\n",
      "18/18 [==============================] - 0s 4ms/step - loss: 0.5801 - accuracy: 0.7338\n",
      "Epoch 39/50\n",
      "18/18 [==============================] - 0s 4ms/step - loss: 0.5783 - accuracy: 0.7266\n",
      "Epoch 40/50\n",
      "18/18 [==============================] - 0s 4ms/step - loss: 0.5762 - accuracy: 0.7266\n",
      "Epoch 41/50\n",
      "18/18 [==============================] - 0s 4ms/step - loss: 0.5742 - accuracy: 0.7338\n",
      "Epoch 42/50\n",
      "18/18 [==============================] - 0s 4ms/step - loss: 0.5723 - accuracy: 0.7410\n",
      "Epoch 43/50\n",
      "18/18 [==============================] - 0s 4ms/step - loss: 0.5704 - accuracy: 0.7410\n",
      "Epoch 44/50\n",
      "18/18 [==============================] - 0s 4ms/step - loss: 0.5685 - accuracy: 0.7410\n",
      "Epoch 45/50\n",
      "18/18 [==============================] - 0s 4ms/step - loss: 0.5667 - accuracy: 0.7410\n",
      "Epoch 46/50\n",
      "18/18 [==============================] - 0s 4ms/step - loss: 0.5651 - accuracy: 0.7410\n",
      "Epoch 47/50\n",
      "18/18 [==============================] - 0s 5ms/step - loss: 0.5631 - accuracy: 0.7482\n",
      "Epoch 48/50\n",
      "18/18 [==============================] - 0s 5ms/step - loss: 0.5614 - accuracy: 0.7482\n",
      "Epoch 49/50\n",
      "18/18 [==============================] - 0s 4ms/step - loss: 0.5597 - accuracy: 0.7482\n",
      "Epoch 50/50\n",
      "18/18 [==============================] - 0s 4ms/step - loss: 0.5580 - accuracy: 0.7482\n",
      "2/2 [==============================] - 0s 6ms/step\n",
      "2/2 [==============================] - 0s 5ms/step - loss: 0.5656 - accuracy: 0.7500\n",
      "Loss: 0.5656394958496094\n",
      "Accuracy: 0.75\n"
     ]
    }
   ],
   "source": [
    "model.compile(optimizer=tf.keras.optimizers.Adam(), loss='binary_crossentropy', metrics = ['accuracy'])\n",
    "model.fit(X_train, encoded_labels1, epochs=50, batch_size=8, callbacks=[checkpoint_callback])\n",
    "\n",
    "preds = model.predict(X_test)\n",
    "# print(preds)\n",
    "\n",
    "#Evaluate the model on the testing data\n",
    "loss, accuracy = model.evaluate(X_test, encoded_labels2)\n",
    "\n",
    "print(\"Loss:\", loss)\n",
    "print(\"Accuracy:\", accuracy)"
   ]
  },
  {
   "cell_type": "code",
   "execution_count": 17,
   "id": "a9abd28a",
   "metadata": {},
   "outputs": [
    {
     "name": "stdout",
     "output_type": "stream",
     "text": [
      "[['Hamza Ahmad']\n",
      " ['Hamza Ahmad']\n",
      " ['Unknown']\n",
      " ['Hamza Ahmad']\n",
      " ['Unknown']\n",
      " ['Hamza Ahmad']\n",
      " ['Hamza Ahmad']\n",
      " ['Unknown']\n",
      " ['Unknown']\n",
      " ['Unknown']\n",
      " ['Unknown']\n",
      " ['Unknown']\n",
      " ['Unknown']\n",
      " ['Unknown']\n",
      " ['Unknown']\n",
      " ['Unknown']\n",
      " ['Hamza Ahmad']\n",
      " ['Hamza Ahmad']\n",
      " ['Unknown']\n",
      " ['Unknown']\n",
      " ['Unknown']\n",
      " ['Unknown']\n",
      " ['Unknown']\n",
      " ['Hamza Ahmad']\n",
      " ['Unknown']\n",
      " ['Hamza Ahmad']\n",
      " ['Unknown']\n",
      " ['Hamza Ahmad']\n",
      " ['Unknown']\n",
      " ['Unknown']\n",
      " ['Hamza Ahmad']\n",
      " ['Hamza Ahmad']\n",
      " ['Unknown']\n",
      " ['Unknown']\n",
      " ['Hamza Ahmad']\n",
      " ['Unknown']\n",
      " ['Unknown']\n",
      " ['Hamza Ahmad']\n",
      " ['Unknown']\n",
      " ['Hamza Ahmad']\n",
      " ['Hamza Ahmad']\n",
      " ['Hamza Ahmad']\n",
      " ['Hamza Ahmad']\n",
      " ['Unknown']\n",
      " ['Hamza Ahmad']\n",
      " ['Hamza Ahmad']\n",
      " ['Unknown']\n",
      " ['Hamza Ahmad']\n",
      " ['Hamza Ahmad']\n",
      " ['Unknown']\n",
      " ['Hamza Ahmad']\n",
      " ['Hamza Ahmad']\n",
      " ['Hamza Ahmad']\n",
      " ['Hamza Ahmad']\n",
      " ['Hamza Ahmad']\n",
      " ['Hamza Ahmad']\n",
      " ['Unknown']\n",
      " ['Unknown']\n",
      " ['Hamza Ahmad']\n",
      " ['Unknown']]\n"
     ]
    }
   ],
   "source": [
    "#Convert the predictions back into labels\n",
    "decoded_labels = label_encoder.inverse_transform(np.squeeze(preds).round().astype(int))\n",
    "\n",
    "# Apply threshold to classify as Hamza Ahmad or Unknown\n",
    "threshold = 0.5\n",
    "final_predictions = np.where(preds <= threshold, 'Hamza Ahmad', 'Unknown')\n",
    "\n",
    "# Print the final predictions\n",
    "print(final_predictions)"
   ]
  },
  {
   "cell_type": "code",
   "execution_count": 16,
   "id": "abefd7b4",
   "metadata": {
    "scrolled": true
   },
   "outputs": [
    {
     "data": {
      "image/png": "[encoded data removed]",
      "text/plain": [
       "<IPython.core.display.Image object>"
      ]
     },
     "execution_count": 16,
     "metadata": {},
     "output_type": "execute_result"
    }
   ],
   "source": [
    "plot_model(model, to_file='model2.png', show_shapes=True, show_layer_names=True)"
   ]
  },
  {
   "cell_type": "code",
   "execution_count": null,
   "id": "df03d072",
   "metadata": {},
   "outputs": [],
   "source": []
  }
 ],
 "metadata": {
  "kernelspec": {
   "display_name": "Python 3 (ipykernel)",
   "language": "python",
   "name": "python3"
  },
  "language_info": {
   "codemirror_mode": {
    "name": "ipython",
    "version": 3
   },
   "file_extension": ".py",
   "mimetype": "text/x-python",
   "name": "python",
   "nbconvert_exporter": "python",
   "pygments_lexer": "ipython3",
   "version": "3.9.13"
  }
 },
 "nbformat": 4,
 "nbformat_minor": 5
}
