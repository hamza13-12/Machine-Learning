{
 "cells": [
  {
   "cell_type": "code",
   "execution_count": 15,
   "id": "d571b472",
   "metadata": {},
   "outputs": [],
   "source": [
    "import numpy as np\n",
    "import pandas as pd\n",
    "import tensorflow as tf\n",
    "from tensorflow import keras\n",
    "from tensorflow.keras import layers\n",
    "from sklearn.model_selection import train_test_split\n",
    "from tensorflow.keras.utils import plot_model\n",
    "from tensorflow.keras.callbacks import ModelCheckpoint"
   ]
  },
  {
   "cell_type": "code",
   "execution_count": 16,
   "id": "3d130890",
   "metadata": {},
   "outputs": [
    {
     "name": "stdout",
     "output_type": "stream",
     "text": [
      "                                                  Path     Identity  \\\n",
      "0    C:\\Users\\User\\Desktop\\Machine Learning\\Persona...  Hamza Ahmad   \n",
      "1    C:\\Users\\User\\Desktop\\Machine Learning\\Persona...  Hamza Ahmad   \n",
      "2    C:\\Users\\User\\Desktop\\Machine Learning\\Persona...  Hamza Ahmad   \n",
      "3    C:\\Users\\User\\Desktop\\Machine Learning\\Persona...  Hamza Ahmad   \n",
      "4    C:\\Users\\User\\Desktop\\Machine Learning\\Persona...  Hamza Ahmad   \n",
      "..                                                 ...          ...   \n",
      "194  C:\\Users\\User\\Desktop\\Machine Learning\\Other\\G...      Unknown   \n",
      "195  C:\\Users\\User\\Desktop\\Machine Learning\\Other\\G...      Unknown   \n",
      "196  C:\\Users\\User\\Desktop\\Machine Learning\\Other\\G...      Unknown   \n",
      "197  C:\\Users\\User\\Desktop\\Machine Learning\\Other\\G...      Unknown   \n",
      "198  C:\\Users\\User\\Desktop\\Machine Learning\\Other\\G...      Unknown   \n",
      "\n",
      "      Expression  Age  \n",
      "0        Smiling   23  \n",
      "1    Not Smiling   23  \n",
      "2    Not Smiling   23  \n",
      "3        Smiling   23  \n",
      "4    Not Smiling   23  \n",
      "..           ...  ...  \n",
      "194      Smiling   68  \n",
      "195  Not Smiling   59  \n",
      "196  Not Smiling   72  \n",
      "197      Smiling   42  \n",
      "198  Not Smiling   73  \n",
      "\n",
      "[199 rows x 4 columns]\n"
     ]
    }
   ],
   "source": [
    "df = pd.read_csv(r\"C:\\Users\\User\\Desktop\\Machine Learning\\ML_Task_01\\dataset_combined.csv\")\n",
    "print(df)"
   ]
  },
  {
   "cell_type": "code",
   "execution_count": 17,
   "id": "592488db",
   "metadata": {},
   "outputs": [],
   "source": [
    "train, test = train_test_split(df, test_size=0.3, random_state = 8)"
   ]
  },
  {
   "cell_type": "code",
   "execution_count": 18,
   "id": "17d543bd",
   "metadata": {},
   "outputs": [
    {
     "data": {
      "text/html": [
       "<div>\n",
       "<style scoped>\n",
       "    .dataframe tbody tr th:only-of-type {\n",
       "        vertical-align: middle;\n",
       "    }\n",
       "\n",
       "    .dataframe tbody tr th {\n",
       "        vertical-align: top;\n",
       "    }\n",
       "\n",
       "    .dataframe thead th {\n",
       "        text-align: right;\n",
       "    }\n",
       "</style>\n",
       "<table border=\"1\" class=\"dataframe\">\n",
       "  <thead>\n",
       "    <tr style=\"text-align: right;\">\n",
       "      <th></th>\n",
       "      <th>Age</th>\n",
       "    </tr>\n",
       "  </thead>\n",
       "  <tbody>\n",
       "    <tr>\n",
       "      <th>count</th>\n",
       "      <td>73.0</td>\n",
       "    </tr>\n",
       "    <tr>\n",
       "      <th>mean</th>\n",
       "      <td>23.0</td>\n",
       "    </tr>\n",
       "    <tr>\n",
       "      <th>std</th>\n",
       "      <td>0.0</td>\n",
       "    </tr>\n",
       "    <tr>\n",
       "      <th>min</th>\n",
       "      <td>23.0</td>\n",
       "    </tr>\n",
       "    <tr>\n",
       "      <th>25%</th>\n",
       "      <td>23.0</td>\n",
       "    </tr>\n",
       "    <tr>\n",
       "      <th>50%</th>\n",
       "      <td>23.0</td>\n",
       "    </tr>\n",
       "    <tr>\n",
       "      <th>75%</th>\n",
       "      <td>23.0</td>\n",
       "    </tr>\n",
       "    <tr>\n",
       "      <th>max</th>\n",
       "      <td>23.0</td>\n",
       "    </tr>\n",
       "  </tbody>\n",
       "</table>\n",
       "</div>"
      ],
      "text/plain": [
       "        Age\n",
       "count  73.0\n",
       "mean   23.0\n",
       "std     0.0\n",
       "min    23.0\n",
       "25%    23.0\n",
       "50%    23.0\n",
       "75%    23.0\n",
       "max    23.0"
      ]
     },
     "execution_count": 18,
     "metadata": {},
     "output_type": "execute_result"
    }
   ],
   "source": [
    "train.loc[train['Age'] == 23].describe()"
   ]
  },
  {
   "cell_type": "code",
   "execution_count": 19,
   "id": "a719c764",
   "metadata": {},
   "outputs": [],
   "source": [
    "X_data = train['Path']\n",
    "X_tdata = test['Path']\n",
    "y1_train = train['Identity']\n",
    "y2_train = train['Expression']\n",
    "y3_train = train['Age']\n",
    "y1_test = test['Identity']\n",
    "y2_test = test['Expression']\n",
    "y3_test = test['Age']"
   ]
  },
  {
   "cell_type": "code",
   "execution_count": 20,
   "id": "f021da1c",
   "metadata": {},
   "outputs": [
    {
     "name": "stdout",
     "output_type": "stream",
     "text": [
      "[[0.00020528 0.00021926 0.00024333 ... 0.00062626 0.00068319 0.00088945]\n",
      " [0.00118929 0.00121232 0.00106665 ... 0.00080002 0.00084119 0.00091485]\n",
      " [0.00223232 0.00152865 0.00110605 ... 0.00096045 0.00081889 0.00078292]\n",
      " ...\n",
      " [0.00133537 0.00099903 0.00115933 ... 0.00213558 0.00232012 0.00253542]\n",
      " [0.0006189  0.00088462 0.00140921 ... 0.00023611 0.00023125 0.00039626]\n",
      " [0.00024174 0.00024354 0.0002437  ... 0.00065935 0.00061324 0.00053635]]\n"
     ]
    }
   ],
   "source": [
    "import skimage\n",
    "from skimage import io\n",
    "from skimage import transform\n",
    "\n",
    "lst = []\n",
    "for path in X_data:\n",
    "    curr_image = io.imread(path)\n",
    "    img_resize = transform.resize(curr_image, output_shape=(32,32,3)) #resize image to match a certain type\n",
    "    img_reshape = np.reshape(img_resize, (32*32*3))\n",
    "    lst.append(img_reshape/255.)\n",
    "    \n",
    "X_train = np.array(lst)\n",
    "print(X_train)"
   ]
  },
  {
   "cell_type": "code",
   "execution_count": 21,
   "id": "c07b314c",
   "metadata": {
    "scrolled": true
   },
   "outputs": [
    {
     "name": "stdout",
     "output_type": "stream",
     "text": [
      "[[0.00372479 0.0036633  0.00364792 ... 0.00092841 0.00082061 0.00067896]\n",
      " [0.00369036 0.00335115 0.00285218 ... 0.0009648  0.00092806 0.00090443]\n",
      " [0.00148349 0.00128357 0.00114516 ... 0.00103969 0.0008479  0.00067647]\n",
      " ...\n",
      " [0.0006255  0.00047171 0.00045633 ... 0.00056502 0.00045768 0.00056406]\n",
      " [0.00270232 0.00256153 0.00237478 ... 0.00047237 0.00053545 0.00058865]\n",
      " [0.00389981 0.00390084 0.00388917 ... 0.00392059 0.00392001 0.0039204 ]]\n"
     ]
    }
   ],
   "source": [
    "lst = []\n",
    "for path in X_tdata:\n",
    "    curr_image = io.imread(path)\n",
    "    img_resize = transform.resize(curr_image, output_shape=(32,32,3))\n",
    "    img_reshape = np.reshape(img_resize, (32*32*3))\n",
    "    lst.append(img_reshape/255.)\n",
    "    \n",
    "X_test = np.array(lst)\n",
    "print(X_test)"
   ]
  },
  {
   "cell_type": "code",
   "execution_count": 22,
   "id": "f68cc7c4",
   "metadata": {},
   "outputs": [],
   "source": [
    "input_layer = keras.layers.Input(shape=(32*32*3,))\n",
    "X = keras.layers.Dense(1, activation='relu')(input_layer)\n",
    "model = keras.Model(inputs = input_layer, outputs = X)"
   ]
  },
  {
   "cell_type": "code",
   "execution_count": 23,
   "id": "a506c057",
   "metadata": {
    "scrolled": true
   },
   "outputs": [
    {
     "name": "stdout",
     "output_type": "stream",
     "text": [
      "Model: \"model_1\"\n",
      "_________________________________________________________________\n",
      " Layer (type)                Output Shape              Param #   \n",
      "=================================================================\n",
      " input_2 (InputLayer)        [(None, 3072)]            0         \n",
      "                                                                 \n",
      " dense_1 (Dense)             (None, 1)                 3073      \n",
      "                                                                 \n",
      "=================================================================\n",
      "Total params: 3,073\n",
      "Trainable params: 3,073\n",
      "Non-trainable params: 0\n",
      "_________________________________________________________________\n"
     ]
    }
   ],
   "source": [
    "model.summary()"
   ]
  },
  {
   "cell_type": "code",
   "execution_count": 24,
   "id": "c4fe198e",
   "metadata": {},
   "outputs": [],
   "source": [
    "# Define the ModelCheckpoint callback\n",
    "checkpoint_callback = ModelCheckpoint(\n",
    "    filepath='model_checkpoint1.h5',  # Filepath to save the model\n",
    "    monitor='loss',  # Metric to monitor \n",
    "    save_best_only=True,  # Save only the best model\n",
    "    save_weights_only=False,  # Save the entire model (including architecture)\n",
    "    mode='min'  # Mode for comparison (minimizing the monitored metric)\n",
    ")"
   ]
  },
  {
   "cell_type": "code",
   "execution_count": 25,
   "id": "130ed9d4",
   "metadata": {
    "scrolled": true
   },
   "outputs": [
    {
     "name": "stdout",
     "output_type": "stream",
     "text": [
      "Epoch 1/50\n",
      "18/18 [==============================] - 1s 5ms/step - loss: 2029.4047\n",
      "Epoch 2/50\n",
      "18/18 [==============================] - 0s 4ms/step - loss: 2020.9110\n",
      "Epoch 3/50\n",
      "18/18 [==============================] - 0s 5ms/step - loss: 2012.6028\n",
      "Epoch 4/50\n",
      "18/18 [==============================] - 0s 6ms/step - loss: 2004.1025\n",
      "Epoch 5/50\n",
      "18/18 [==============================] - 0s 5ms/step - loss: 1995.8258\n",
      "Epoch 6/50\n",
      "18/18 [==============================] - 0s 5ms/step - loss: 1987.5065\n",
      "Epoch 7/50\n",
      "18/18 [==============================] - 0s 4ms/step - loss: 1979.3608\n",
      "Epoch 8/50\n",
      "18/18 [==============================] - 0s 5ms/step - loss: 1971.2601\n",
      "Epoch 9/50\n",
      "18/18 [==============================] - 0s 4ms/step - loss: 1963.0032\n",
      "Epoch 10/50\n",
      "18/18 [==============================] - 0s 5ms/step - loss: 1954.8640\n",
      "Epoch 11/50\n",
      "18/18 [==============================] - 0s 4ms/step - loss: 1946.7244\n",
      "Epoch 12/50\n",
      "18/18 [==============================] - 0s 4ms/step - loss: 1938.6187\n",
      "Epoch 13/50\n",
      "18/18 [==============================] - 0s 6ms/step - loss: 1930.5686\n",
      "Epoch 14/50\n",
      "18/18 [==============================] - 0s 5ms/step - loss: 1922.7559\n",
      "Epoch 15/50\n",
      "18/18 [==============================] - 0s 6ms/step - loss: 1914.9011\n",
      "Epoch 16/50\n",
      "18/18 [==============================] - 0s 6ms/step - loss: 1906.9373\n",
      "Epoch 17/50\n",
      "18/18 [==============================] - 0s 5ms/step - loss: 1899.2864\n",
      "Epoch 18/50\n",
      "18/18 [==============================] - 0s 5ms/step - loss: 1891.6396\n",
      "Epoch 19/50\n",
      "18/18 [==============================] - 0s 4ms/step - loss: 1883.9216\n",
      "Epoch 20/50\n",
      "18/18 [==============================] - 0s 4ms/step - loss: 1876.1470\n",
      "Epoch 21/50\n",
      "18/18 [==============================] - 0s 4ms/step - loss: 1868.5099\n",
      "Epoch 22/50\n",
      "18/18 [==============================] - 0s 4ms/step - loss: 1860.9602\n",
      "Epoch 23/50\n",
      "18/18 [==============================] - 0s 5ms/step - loss: 1853.3672\n",
      "Epoch 24/50\n",
      "18/18 [==============================] - 0s 4ms/step - loss: 1845.8378\n",
      "Epoch 25/50\n",
      "18/18 [==============================] - 0s 4ms/step - loss: 1838.4369\n",
      "Epoch 26/50\n",
      "18/18 [==============================] - 0s 4ms/step - loss: 1830.7968\n",
      "Epoch 27/50\n",
      "18/18 [==============================] - 0s 4ms/step - loss: 1823.3337\n",
      "Epoch 28/50\n",
      "18/18 [==============================] - 0s 6ms/step - loss: 1815.8800\n",
      "Epoch 29/50\n",
      "18/18 [==============================] - 0s 5ms/step - loss: 1808.4567\n",
      "Epoch 30/50\n",
      "18/18 [==============================] - 0s 6ms/step - loss: 1801.2700\n",
      "Epoch 31/50\n",
      "18/18 [==============================] - 0s 5ms/step - loss: 1793.8528\n",
      "Epoch 32/50\n",
      "18/18 [==============================] - 0s 5ms/step - loss: 1786.5811\n",
      "Epoch 33/50\n",
      "18/18 [==============================] - 0s 5ms/step - loss: 1779.4391\n",
      "Epoch 34/50\n",
      "18/18 [==============================] - 0s 5ms/step - loss: 1772.2395\n",
      "Epoch 35/50\n",
      "18/18 [==============================] - 0s 5ms/step - loss: 1765.0577\n",
      "Epoch 36/50\n",
      "18/18 [==============================] - 0s 5ms/step - loss: 1757.9795\n",
      "Epoch 37/50\n",
      "18/18 [==============================] - 0s 5ms/step - loss: 1750.8225\n",
      "Epoch 38/50\n",
      "18/18 [==============================] - 0s 5ms/step - loss: 1743.6423\n",
      "Epoch 39/50\n",
      "18/18 [==============================] - 0s 4ms/step - loss: 1736.5282\n",
      "Epoch 40/50\n",
      "18/18 [==============================] - 0s 5ms/step - loss: 1729.4452\n",
      "Epoch 41/50\n",
      "18/18 [==============================] - 0s 4ms/step - loss: 1722.4438\n",
      "Epoch 42/50\n",
      "18/18 [==============================] - 0s 4ms/step - loss: 1715.5278\n",
      "Epoch 43/50\n",
      "18/18 [==============================] - 0s 5ms/step - loss: 1708.5344\n",
      "Epoch 44/50\n",
      "18/18 [==============================] - 0s 5ms/step - loss: 1701.8175\n",
      "Epoch 45/50\n",
      "18/18 [==============================] - 0s 5ms/step - loss: 1694.7717\n",
      "Epoch 46/50\n",
      "18/18 [==============================] - 0s 4ms/step - loss: 1688.1185\n",
      "Epoch 47/50\n",
      "18/18 [==============================] - 0s 5ms/step - loss: 1681.2334\n",
      "Epoch 48/50\n",
      "18/18 [==============================] - 0s 4ms/step - loss: 1674.5256\n",
      "Epoch 49/50\n",
      "18/18 [==============================] - 0s 4ms/step - loss: 1667.8058\n",
      "Epoch 50/50\n",
      "18/18 [==============================] - 0s 4ms/step - loss: 1660.9398\n",
      "2/2 [==============================] - 0s 4ms/step\n",
      "2/2 [==============================] - 0s 5ms/step - loss: 2108.4478\n",
      "MSE: 2108.44775390625\n"
     ]
    }
   ],
   "source": [
    "model.compile(optimizer=tf.keras.optimizers.Adam(), loss=tf.keras.losses.mean_squared_error)\n",
    "model.fit(X_train, y3_train, epochs=50, batch_size=8, callbacks=[checkpoint_callback])\n",
    "\n",
    "preds = model.predict(X_test)\n",
    "\n",
    "# Evaluate the model on the testing data\n",
    "loss = model.evaluate(X_test, y3_test)\n",
    "\n",
    "print(\"MSE:\", loss)"
   ]
  },
  {
   "cell_type": "code",
   "execution_count": null,
   "id": "abefd7b4",
   "metadata": {
    "scrolled": true
   },
   "outputs": [],
   "source": [
    "plot_model(model, to_file='model.png', show_shapes=True, show_layer_names=True)"
   ]
  },
  {
   "cell_type": "code",
   "execution_count": null,
   "id": "df03d072",
   "metadata": {},
   "outputs": [],
   "source": []
  }
 ],
 "metadata": {
  "kernelspec": {
   "display_name": "Python 3 (ipykernel)",
   "language": "python",
   "name": "python3"
  },
  "language_info": {
   "codemirror_mode": {
    "name": "ipython",
    "version": 3
   },
   "file_extension": ".py",
   "mimetype": "text/x-python",
   "name": "python",
   "nbconvert_exporter": "python",
   "pygments_lexer": "ipython3",
   "version": "3.9.13"
  }
 },
 "nbformat": 4,
 "nbformat_minor": 5
}
