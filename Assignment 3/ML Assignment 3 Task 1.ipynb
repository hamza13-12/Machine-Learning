{
 "cells": [
  {
   "cell_type": "code",
   "execution_count": 18,
   "id": "d28c3632",
   "metadata": {
    "scrolled": true
   },
   "outputs": [
    {
     "name": "stdout",
     "output_type": "stream",
     "text": [
      "                                                  Path     Identity  \\\n",
      "0    C:\\Users\\User\\Desktop\\Machine Learning\\Persona...  Hamza Ahmad   \n",
      "1    C:\\Users\\User\\Desktop\\Machine Learning\\Persona...  Hamza Ahmad   \n",
      "2    C:\\Users\\User\\Desktop\\Machine Learning\\Persona...  Hamza Ahmad   \n",
      "3    C:\\Users\\User\\Desktop\\Machine Learning\\Persona...  Hamza Ahmad   \n",
      "4    C:\\Users\\User\\Desktop\\Machine Learning\\Persona...  Hamza Ahmad   \n",
      "..                                                 ...          ...   \n",
      "194  C:\\Users\\User\\Desktop\\Machine Learning\\Other\\G...      Unknown   \n",
      "195  C:\\Users\\User\\Desktop\\Machine Learning\\Other\\G...      Unknown   \n",
      "196  C:\\Users\\User\\Desktop\\Machine Learning\\Other\\G...      Unknown   \n",
      "197  C:\\Users\\User\\Desktop\\Machine Learning\\Other\\G...      Unknown   \n",
      "198  C:\\Users\\User\\Desktop\\Machine Learning\\Other\\G...      Unknown   \n",
      "\n",
      "      Expression  Age  \n",
      "0        Smiling   23  \n",
      "1    Not Smiling   23  \n",
      "2    Not Smiling   23  \n",
      "3        Smiling   23  \n",
      "4    Not Smiling   23  \n",
      "..           ...  ...  \n",
      "194      Smiling   68  \n",
      "195  Not Smiling   59  \n",
      "196  Not Smiling   72  \n",
      "197      Smiling   42  \n",
      "198  Not Smiling   73  \n",
      "\n",
      "[199 rows x 4 columns]\n"
     ]
    }
   ],
   "source": [
    "import pandas as pd\n",
    "\n",
    "df = pd.read_csv(r\"C:\\Users\\User\\Desktop\\Machine Learning\\ML_Task_01\\dataset_combined.csv\")\n",
    "print(df)"
   ]
  },
  {
   "cell_type": "code",
   "execution_count": 19,
   "id": "449dde06",
   "metadata": {},
   "outputs": [],
   "source": [
    "import numpy as np\n",
    "from sklearn.model_selection import train_test_split\n",
    "\n",
    "\n",
    "train, test = train_test_split(df, test_size=0.3, random_state = 8)"
   ]
  },
  {
   "cell_type": "code",
   "execution_count": 20,
   "id": "2ef0242f",
   "metadata": {},
   "outputs": [
    {
     "data": {
      "text/html": [
       "<div>\n",
       "<style scoped>\n",
       "    .dataframe tbody tr th:only-of-type {\n",
       "        vertical-align: middle;\n",
       "    }\n",
       "\n",
       "    .dataframe tbody tr th {\n",
       "        vertical-align: top;\n",
       "    }\n",
       "\n",
       "    .dataframe thead th {\n",
       "        text-align: right;\n",
       "    }\n",
       "</style>\n",
       "<table border=\"1\" class=\"dataframe\">\n",
       "  <thead>\n",
       "    <tr style=\"text-align: right;\">\n",
       "      <th></th>\n",
       "      <th>Age</th>\n",
       "    </tr>\n",
       "  </thead>\n",
       "  <tbody>\n",
       "    <tr>\n",
       "      <th>count</th>\n",
       "      <td>73.0</td>\n",
       "    </tr>\n",
       "    <tr>\n",
       "      <th>mean</th>\n",
       "      <td>23.0</td>\n",
       "    </tr>\n",
       "    <tr>\n",
       "      <th>std</th>\n",
       "      <td>0.0</td>\n",
       "    </tr>\n",
       "    <tr>\n",
       "      <th>min</th>\n",
       "      <td>23.0</td>\n",
       "    </tr>\n",
       "    <tr>\n",
       "      <th>25%</th>\n",
       "      <td>23.0</td>\n",
       "    </tr>\n",
       "    <tr>\n",
       "      <th>50%</th>\n",
       "      <td>23.0</td>\n",
       "    </tr>\n",
       "    <tr>\n",
       "      <th>75%</th>\n",
       "      <td>23.0</td>\n",
       "    </tr>\n",
       "    <tr>\n",
       "      <th>max</th>\n",
       "      <td>23.0</td>\n",
       "    </tr>\n",
       "  </tbody>\n",
       "</table>\n",
       "</div>"
      ],
      "text/plain": [
       "        Age\n",
       "count  73.0\n",
       "mean   23.0\n",
       "std     0.0\n",
       "min    23.0\n",
       "25%    23.0\n",
       "50%    23.0\n",
       "75%    23.0\n",
       "max    23.0"
      ]
     },
     "execution_count": 20,
     "metadata": {},
     "output_type": "execute_result"
    }
   ],
   "source": [
    "train.loc[train['Age'] == 23].describe()"
   ]
  },
  {
   "cell_type": "code",
   "execution_count": 21,
   "id": "3b5187e1",
   "metadata": {},
   "outputs": [
    {
     "data": {
      "text/html": [
       "<div>\n",
       "<style scoped>\n",
       "    .dataframe tbody tr th:only-of-type {\n",
       "        vertical-align: middle;\n",
       "    }\n",
       "\n",
       "    .dataframe tbody tr th {\n",
       "        vertical-align: top;\n",
       "    }\n",
       "\n",
       "    .dataframe thead th {\n",
       "        text-align: right;\n",
       "    }\n",
       "</style>\n",
       "<table border=\"1\" class=\"dataframe\">\n",
       "  <thead>\n",
       "    <tr style=\"text-align: right;\">\n",
       "      <th></th>\n",
       "      <th>Age</th>\n",
       "    </tr>\n",
       "  </thead>\n",
       "  <tbody>\n",
       "    <tr>\n",
       "      <th>count</th>\n",
       "      <td>66.000000</td>\n",
       "    </tr>\n",
       "    <tr>\n",
       "      <th>mean</th>\n",
       "      <td>58.136364</td>\n",
       "    </tr>\n",
       "    <tr>\n",
       "      <th>std</th>\n",
       "      <td>17.951976</td>\n",
       "    </tr>\n",
       "    <tr>\n",
       "      <th>min</th>\n",
       "      <td>12.000000</td>\n",
       "    </tr>\n",
       "    <tr>\n",
       "      <th>25%</th>\n",
       "      <td>46.000000</td>\n",
       "    </tr>\n",
       "    <tr>\n",
       "      <th>50%</th>\n",
       "      <td>59.500000</td>\n",
       "    </tr>\n",
       "    <tr>\n",
       "      <th>75%</th>\n",
       "      <td>72.000000</td>\n",
       "    </tr>\n",
       "    <tr>\n",
       "      <th>max</th>\n",
       "      <td>99.000000</td>\n",
       "    </tr>\n",
       "  </tbody>\n",
       "</table>\n",
       "</div>"
      ],
      "text/plain": [
       "             Age\n",
       "count  66.000000\n",
       "mean   58.136364\n",
       "std    17.951976\n",
       "min    12.000000\n",
       "25%    46.000000\n",
       "50%    59.500000\n",
       "75%    72.000000\n",
       "max    99.000000"
      ]
     },
     "execution_count": 21,
     "metadata": {},
     "output_type": "execute_result"
    }
   ],
   "source": [
    "train.loc[train['Age'] != 23].describe() \n",
    "#stratifed split is successful"
   ]
  },
  {
   "cell_type": "code",
   "execution_count": 22,
   "id": "b8574224",
   "metadata": {},
   "outputs": [],
   "source": [
    "X_data = train['Path']\n",
    "X_tdata = test['Path']\n",
    "y1_train = train['Identity']\n",
    "y2_train = train['Expression']\n",
    "y3_train = train['Age']\n",
    "y1_test = test['Identity']\n",
    "y2_test = test['Expression']\n",
    "y3_test = test['Age']"
   ]
  },
  {
   "cell_type": "code",
   "execution_count": 23,
   "id": "48608fa4",
   "metadata": {},
   "outputs": [
    {
     "data": {
      "text/plain": [
       "182    C:\\Users\\User\\Desktop\\Machine Learning\\Other\\F...\n",
       "113    C:\\Users\\User\\Desktop\\Machine Learning\\Other\\A...\n",
       "79     C:\\Users\\User\\Desktop\\Machine Learning\\Persona...\n",
       "142    C:\\Users\\User\\Desktop\\Machine Learning\\Other\\C...\n",
       "188    C:\\Users\\User\\Desktop\\Machine Learning\\Other\\G...\n",
       "                             ...                        \n",
       "136    C:\\Users\\User\\Desktop\\Machine Learning\\Other\\C...\n",
       "133    C:\\Users\\User\\Desktop\\Machine Learning\\Other\\B...\n",
       "105    C:\\Users\\User\\Desktop\\Machine Learning\\Other\\A...\n",
       "84     C:\\Users\\User\\Desktop\\Machine Learning\\Persona...\n",
       "195    C:\\Users\\User\\Desktop\\Machine Learning\\Other\\G...\n",
       "Name: Path, Length: 139, dtype: object"
      ]
     },
     "execution_count": 23,
     "metadata": {},
     "output_type": "execute_result"
    }
   ],
   "source": [
    "X_data"
   ]
  },
  {
   "cell_type": "code",
   "execution_count": 24,
   "id": "a93f9b5f",
   "metadata": {
    "scrolled": false
   },
   "outputs": [
    {
     "name": "stdout",
     "output_type": "stream",
     "text": [
      "[[0.00020528 0.00021926 0.00024333 ... 0.00062626 0.00068319 0.00088945]\n",
      " [0.00118929 0.00121232 0.00106665 ... 0.00080002 0.00084119 0.00091485]\n",
      " [0.00223232 0.00152865 0.00110605 ... 0.00096045 0.00081889 0.00078292]\n",
      " ...\n",
      " [0.00133537 0.00099903 0.00115933 ... 0.00213558 0.00232012 0.00253542]\n",
      " [0.0006189  0.00088462 0.00140921 ... 0.00023611 0.00023125 0.00039626]\n",
      " [0.00024174 0.00024354 0.0002437  ... 0.00065935 0.00061324 0.00053635]]\n"
     ]
    }
   ],
   "source": [
    "import skimage\n",
    "from skimage import io\n",
    "from skimage import transform\n",
    "\n",
    "lst = []\n",
    "for path in X_data:\n",
    "    #print(path)\n",
    "    curr_image = io.imread(path)\n",
    "    img_resize = transform.resize(curr_image, output_shape=(32,32,3)) #resize image to match a certain type\n",
    "    #img_shape = np.shape(img_resize)\n",
    "    #print(img_shape)\n",
    "    img_reshape = np.reshape(img_resize, (32*32*3))\n",
    "    lst.append(img_reshape/255.)\n",
    "    \n",
    "X_train = np.array(lst)\n",
    "print(X_train)"
   ]
  },
  {
   "cell_type": "code",
   "execution_count": 25,
   "id": "1cdc2d43",
   "metadata": {},
   "outputs": [
    {
     "data": {
      "text/plain": [
       "2"
      ]
     },
     "execution_count": 25,
     "metadata": {},
     "output_type": "execute_result"
    }
   ],
   "source": [
    "X_train.ndim #Image dimensions after resizing"
   ]
  },
  {
   "cell_type": "code",
   "execution_count": 26,
   "id": "06209702",
   "metadata": {
    "scrolled": true
   },
   "outputs": [
    {
     "name": "stdout",
     "output_type": "stream",
     "text": [
      "[[0.00372479 0.0036633  0.00364792 ... 0.00092841 0.00082061 0.00067896]\n",
      " [0.00369036 0.00335115 0.00285218 ... 0.0009648  0.00092806 0.00090443]\n",
      " [0.00148349 0.00128357 0.00114516 ... 0.00103969 0.0008479  0.00067647]\n",
      " ...\n",
      " [0.0006255  0.00047171 0.00045633 ... 0.00056502 0.00045768 0.00056406]\n",
      " [0.00270232 0.00256153 0.00237478 ... 0.00047237 0.00053545 0.00058865]\n",
      " [0.00389981 0.00390084 0.00388917 ... 0.00392059 0.00392001 0.0039204 ]]\n"
     ]
    }
   ],
   "source": [
    "lst = []\n",
    "for path in X_tdata:\n",
    "    curr_image = io.imread(path)\n",
    "    img_resize = transform.resize(curr_image, output_shape=(32,32,3))\n",
    "    img_reshape = np.reshape(img_resize, (32*32*3))\n",
    "    lst.append(img_reshape/255.)\n",
    "    \n",
    "X_test = np.array(lst)\n",
    "print(X_test)"
   ]
  },
  {
   "cell_type": "code",
   "execution_count": 27,
   "id": "a73c47a4",
   "metadata": {},
   "outputs": [
    {
     "data": {
      "text/plain": [
       "(60, 3072)"
      ]
     },
     "execution_count": 27,
     "metadata": {},
     "output_type": "execute_result"
    }
   ],
   "source": [
    "X_test.shape"
   ]
  },
  {
   "cell_type": "code",
   "execution_count": 28,
   "id": "43c053dc",
   "metadata": {
    "scrolled": true
   },
   "outputs": [
    {
     "name": "stderr",
     "output_type": "stream",
     "text": [
      "C:\\Users\\User\\anaconda3\\lib\\site-packages\\sklearn\\linear_model\\_stochastic_gradient.py:1503: ConvergenceWarning: Maximum number of iteration reached before convergence. Consider increasing max_iter to improve the fit.\n",
      "  warnings.warn(\n",
      "C:\\Users\\User\\anaconda3\\lib\\site-packages\\sklearn\\linear_model\\_stochastic_gradient.py:1503: ConvergenceWarning: Maximum number of iteration reached before convergence. Consider increasing max_iter to improve the fit.\n",
      "  warnings.warn(\n",
      "C:\\Users\\User\\anaconda3\\lib\\site-packages\\sklearn\\linear_model\\_stochastic_gradient.py:1503: ConvergenceWarning: Maximum number of iteration reached before convergence. Consider increasing max_iter to improve the fit.\n",
      "  warnings.warn(\n",
      "C:\\Users\\User\\anaconda3\\lib\\site-packages\\sklearn\\linear_model\\_stochastic_gradient.py:1503: ConvergenceWarning: Maximum number of iteration reached before convergence. Consider increasing max_iter to improve the fit.\n",
      "  warnings.warn(\n",
      "C:\\Users\\User\\anaconda3\\lib\\site-packages\\sklearn\\linear_model\\_stochastic_gradient.py:1503: ConvergenceWarning: Maximum number of iteration reached before convergence. Consider increasing max_iter to improve the fit.\n",
      "  warnings.warn(\n",
      "C:\\Users\\User\\anaconda3\\lib\\site-packages\\sklearn\\linear_model\\_stochastic_gradient.py:1503: ConvergenceWarning: Maximum number of iteration reached before convergence. Consider increasing max_iter to improve the fit.\n",
      "  warnings.warn(\n",
      "C:\\Users\\User\\anaconda3\\lib\\site-packages\\sklearn\\linear_model\\_stochastic_gradient.py:1503: ConvergenceWarning: Maximum number of iteration reached before convergence. Consider increasing max_iter to improve the fit.\n",
      "  warnings.warn(\n",
      "C:\\Users\\User\\anaconda3\\lib\\site-packages\\sklearn\\linear_model\\_stochastic_gradient.py:1503: ConvergenceWarning: Maximum number of iteration reached before convergence. Consider increasing max_iter to improve the fit.\n",
      "  warnings.warn(\n",
      "C:\\Users\\User\\anaconda3\\lib\\site-packages\\sklearn\\linear_model\\_stochastic_gradient.py:1503: ConvergenceWarning: Maximum number of iteration reached before convergence. Consider increasing max_iter to improve the fit.\n",
      "  warnings.warn(\n",
      "C:\\Users\\User\\anaconda3\\lib\\site-packages\\sklearn\\linear_model\\_stochastic_gradient.py:1503: ConvergenceWarning: Maximum number of iteration reached before convergence. Consider increasing max_iter to improve the fit.\n",
      "  warnings.warn(\n",
      "C:\\Users\\User\\anaconda3\\lib\\site-packages\\sklearn\\linear_model\\_stochastic_gradient.py:1503: ConvergenceWarning: Maximum number of iteration reached before convergence. Consider increasing max_iter to improve the fit.\n",
      "  warnings.warn(\n",
      "C:\\Users\\User\\anaconda3\\lib\\site-packages\\sklearn\\linear_model\\_stochastic_gradient.py:1503: ConvergenceWarning: Maximum number of iteration reached before convergence. Consider increasing max_iter to improve the fit.\n",
      "  warnings.warn(\n",
      "C:\\Users\\User\\anaconda3\\lib\\site-packages\\sklearn\\linear_model\\_stochastic_gradient.py:1503: ConvergenceWarning: Maximum number of iteration reached before convergence. Consider increasing max_iter to improve the fit.\n",
      "  warnings.warn(\n",
      "C:\\Users\\User\\anaconda3\\lib\\site-packages\\sklearn\\linear_model\\_stochastic_gradient.py:1503: ConvergenceWarning: Maximum number of iteration reached before convergence. Consider increasing max_iter to improve the fit.\n",
      "  warnings.warn(\n",
      "C:\\Users\\User\\anaconda3\\lib\\site-packages\\sklearn\\linear_model\\_stochastic_gradient.py:1503: ConvergenceWarning: Maximum number of iteration reached before convergence. Consider increasing max_iter to improve the fit.\n",
      "  warnings.warn(\n",
      "C:\\Users\\User\\anaconda3\\lib\\site-packages\\sklearn\\linear_model\\_stochastic_gradient.py:1503: ConvergenceWarning: Maximum number of iteration reached before convergence. Consider increasing max_iter to improve the fit.\n",
      "  warnings.warn(\n",
      "C:\\Users\\User\\anaconda3\\lib\\site-packages\\sklearn\\linear_model\\_stochastic_gradient.py:1503: ConvergenceWarning: Maximum number of iteration reached before convergence. Consider increasing max_iter to improve the fit.\n",
      "  warnings.warn(\n",
      "C:\\Users\\User\\anaconda3\\lib\\site-packages\\sklearn\\linear_model\\_stochastic_gradient.py:1503: ConvergenceWarning: Maximum number of iteration reached before convergence. Consider increasing max_iter to improve the fit.\n",
      "  warnings.warn(\n",
      "C:\\Users\\User\\anaconda3\\lib\\site-packages\\sklearn\\linear_model\\_stochastic_gradient.py:1503: ConvergenceWarning: Maximum number of iteration reached before convergence. Consider increasing max_iter to improve the fit.\n",
      "  warnings.warn(\n",
      "C:\\Users\\User\\anaconda3\\lib\\site-packages\\sklearn\\linear_model\\_stochastic_gradient.py:1503: ConvergenceWarning: Maximum number of iteration reached before convergence. Consider increasing max_iter to improve the fit.\n",
      "  warnings.warn(\n",
      "C:\\Users\\User\\anaconda3\\lib\\site-packages\\sklearn\\linear_model\\_stochastic_gradient.py:1503: ConvergenceWarning: Maximum number of iteration reached before convergence. Consider increasing max_iter to improve the fit.\n",
      "  warnings.warn(\n",
      "C:\\Users\\User\\anaconda3\\lib\\site-packages\\sklearn\\linear_model\\_stochastic_gradient.py:1503: ConvergenceWarning: Maximum number of iteration reached before convergence. Consider increasing max_iter to improve the fit.\n",
      "  warnings.warn(\n",
      "C:\\Users\\User\\anaconda3\\lib\\site-packages\\sklearn\\linear_model\\_stochastic_gradient.py:1503: ConvergenceWarning: Maximum number of iteration reached before convergence. Consider increasing max_iter to improve the fit.\n",
      "  warnings.warn(\n",
      "C:\\Users\\User\\anaconda3\\lib\\site-packages\\sklearn\\linear_model\\_stochastic_gradient.py:1503: ConvergenceWarning: Maximum number of iteration reached before convergence. Consider increasing max_iter to improve the fit.\n",
      "  warnings.warn(\n",
      "C:\\Users\\User\\anaconda3\\lib\\site-packages\\sklearn\\linear_model\\_stochastic_gradient.py:1503: ConvergenceWarning: Maximum number of iteration reached before convergence. Consider increasing max_iter to improve the fit.\n",
      "  warnings.warn(\n",
      "C:\\Users\\User\\anaconda3\\lib\\site-packages\\sklearn\\linear_model\\_stochastic_gradient.py:1503: ConvergenceWarning: Maximum number of iteration reached before convergence. Consider increasing max_iter to improve the fit.\n",
      "  warnings.warn(\n"
     ]
    },
    {
     "name": "stdout",
     "output_type": "stream",
     "text": [
      "Best hyperparameters:  {'alpha': 0.01, 'eta0': 0.01, 'max_iter': 5000, 'penalty': 'l2', 'tol': 0.0001}\n",
      "Best score:  -0.08381166626584416\n",
      "Regression Coefficients:  [-0.85608256 -0.74739195 -0.68951357 ... -0.59753231 -0.61522556\n",
      " -0.72994991]\n",
      "MSE: 517.5332288940272\n",
      "R Squared Error: 0.0027893215824725814\n"
     ]
    }
   ],
   "source": [
    "from sklearn.linear_model import SGDRegressor\n",
    "from sklearn.linear_model import RidgeCV, ElasticNetCV, LassoCV\n",
    "from sklearn.model_selection import GridSearchCV\n",
    "from sklearn.metrics import mean_squared_error\n",
    "from sklearn.metrics import r2_score\n",
    "import joblib\n",
    "\n",
    "#first we will define the hyperparameters we want to search over\n",
    "params = {\n",
    "    'penalty': ['l1', 'l2'],\n",
    "    'alpha': [0.01, 0.1, 1.0],\n",
    "    'max_iter': [1000, 5000],\n",
    "    'tol': [1e-4, 1e-3],\n",
    "    'eta0': [0.001, 0.01]\n",
    "}\n",
    "\n",
    "#initialize the linear regression model\n",
    "model = SGDRegressor()\n",
    "\n",
    "#Now create a GridSearchCV object and fit it to the data\n",
    "grid_search = GridSearchCV(model, params, cv=5)\n",
    "grid_search.fit(X_train, y3_train)\n",
    "\n",
    "best_hyperparam = grid_search.best_params_\n",
    "\n",
    "# print the best hyperparameters and the corresponding score\n",
    "print(\"Best hyperparameters: \", best_hyperparam)\n",
    "print(\"Best score: \", grid_search.best_score_)\n",
    "\n",
    "#now saving the best model\n",
    "best_model = grid_search.best_estimator_\n",
    "joblib.dump(best_model, \"SGD_Regressor.pkl\")\n",
    "\n",
    "# Print the learned regression coefficients\n",
    "print(\"Regression Coefficients: \", best_model.coef_)\n",
    "\n",
    "#making predictions \n",
    "y_pred = best_model.predict(X_test)\n",
    "\n",
    "mse = mean_squared_error(y3_test, y_pred)\n",
    "r2 = r2_score(y3_test, y_pred)\n",
    "print(\"MSE:\", mse)\n",
    "print(\"R Squared Error:\", r2)"
   ]
  },
  {
   "cell_type": "code",
   "execution_count": 29,
   "id": "e89e4cd8",
   "metadata": {},
   "outputs": [
    {
     "name": "stdout",
     "output_type": "stream",
     "text": [
      "RidgeCV: Best hyperparameters:  0.1  Best score:  0.21596772391941632\n",
      "ElasticNetCV: Best hyperparameters:  0.1 0.1  Best score:  -0.05310589588005099\n",
      "LassoCV: Best hyperparameters:  10.0  Best score:  -0.053444198746992466\n",
      "Regression Coefficients:  [-0.0024168 -0.        -0.        ... -0.        -0.        -0.       ]\n",
      "MSE: 546.5417754320755\n",
      "R Squared Error: -0.05310589588005099\n"
     ]
    }
   ],
   "source": [
    "#now \n",
    "# define the hyperparameters we want to search over for each model\n",
    "ridge_params = {'alphas': [0.1, 1.0, 10.0], 'cv': 5}\n",
    "elasticnet_params = {'l1_ratio': [0.1, 0.5, 0.9], 'alphas': [0.1, 1.0, 10.0], 'cv': 5}\n",
    "lasso_params = {'alphas': [0.1, 1.0, 10.0], 'cv': 5}\n",
    "\n",
    "# initialize the models with the defined hyperparameters\n",
    "ridge_model = RidgeCV(**ridge_params)\n",
    "elasticnet_model = ElasticNetCV(**elasticnet_params)\n",
    "lasso_model = LassoCV(**lasso_params)\n",
    "\n",
    "# fit each model to the training data\n",
    "ridge_model.fit(X_train, y3_train)\n",
    "elasticnet_model.fit(X_train, y3_train)\n",
    "lasso_model.fit(X_train, y3_train)\n",
    "\n",
    "# print the best hyperparameters and the corresponding score for each model\n",
    "print(\"RidgeCV: Best hyperparameters: \", ridge_model.alpha_, \" Best score: \", ridge_model.score(X_test, y3_test))\n",
    "print(\"ElasticNetCV: Best hyperparameters: \", elasticnet_model.alpha_, elasticnet_model.l1_ratio_, \" Best score: \", elasticnet_model.score(X_test, y3_test))\n",
    "print(\"LassoCV: Best hyperparameters: \", lasso_model.alpha_, \" Best score: \", lasso_model.score(X_test, y3_test))\n",
    "\n",
    "#now saving the best model\n",
    "best_model = elasticnet_model\n",
    "joblib.dump(best_model, \"ElasticNetCV.pkl\")\n",
    "\n",
    "# Print the learned regression coefficients\n",
    "print(\"Regression Coefficients: \", best_model.coef_)\n",
    "\n",
    "#making predictions \n",
    "y_pred = best_model.predict(X_test)\n",
    "\n",
    "mse = mean_squared_error(y3_test, y_pred)\n",
    "r2 = r2_score(y3_test, y_pred)\n",
    "print(\"MSE:\", mse)\n",
    "print(\"R Squared Error:\", r2)"
   ]
  },
  {
   "cell_type": "code",
   "execution_count": 30,
   "id": "b065a111",
   "metadata": {},
   "outputs": [],
   "source": [
    "#model.score(X_train, y3_train) #performing slightly better on training data "
   ]
  },
  {
   "cell_type": "code",
   "execution_count": null,
   "id": "f85da7ea",
   "metadata": {},
   "outputs": [],
   "source": []
  }
 ],
 "metadata": {
  "kernelspec": {
   "display_name": "Python 3 (ipykernel)",
   "language": "python",
   "name": "python3"
  },
  "language_info": {
   "codemirror_mode": {
    "name": "ipython",
    "version": 3
   },
   "file_extension": ".py",
   "mimetype": "text/x-python",
   "name": "python",
   "nbconvert_exporter": "python",
   "pygments_lexer": "ipython3",
   "version": "3.9.13"
  }
 },
 "nbformat": 4,
 "nbformat_minor": 5
}
