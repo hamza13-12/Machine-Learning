{
 "cells": [
  {
   "cell_type": "code",
   "execution_count": 1,
   "id": "85f8e16a",
   "metadata": {
    "scrolled": false
   },
   "outputs": [
    {
     "name": "stdout",
     "output_type": "stream",
     "text": [
      "                                                  Path     Identity  \\\n",
      "0    C:\\Users\\User\\Desktop\\Machine Learning\\Persona...  Hamza Ahmad   \n",
      "1    C:\\Users\\User\\Desktop\\Machine Learning\\Persona...  Hamza Ahmad   \n",
      "2    C:\\Users\\User\\Desktop\\Machine Learning\\Persona...  Hamza Ahmad   \n",
      "3    C:\\Users\\User\\Desktop\\Machine Learning\\Persona...  Hamza Ahmad   \n",
      "4    C:\\Users\\User\\Desktop\\Machine Learning\\Persona...  Hamza Ahmad   \n",
      "..                                                 ...          ...   \n",
      "194  C:\\Users\\User\\Desktop\\Machine Learning\\Other\\G...      Unknown   \n",
      "195  C:\\Users\\User\\Desktop\\Machine Learning\\Other\\G...      Unknown   \n",
      "196  C:\\Users\\User\\Desktop\\Machine Learning\\Other\\G...      Unknown   \n",
      "197  C:\\Users\\User\\Desktop\\Machine Learning\\Other\\G...      Unknown   \n",
      "198  C:\\Users\\User\\Desktop\\Machine Learning\\Other\\G...      Unknown   \n",
      "\n",
      "      Expression  Age  \n",
      "0        Smiling   23  \n",
      "1    Not Smiling   23  \n",
      "2    Not Smiling   23  \n",
      "3        Smiling   23  \n",
      "4    Not Smiling   23  \n",
      "..           ...  ...  \n",
      "194      Smiling   68  \n",
      "195  Not Smiling   59  \n",
      "196  Not Smiling   72  \n",
      "197      Smiling   42  \n",
      "198  Not Smiling   73  \n",
      "\n",
      "[199 rows x 4 columns]\n"
     ]
    }
   ],
   "source": [
    "import pandas as pd\n",
    "df = pd.read_csv(r\"C:\\Users\\User\\Desktop\\Machine Learning\\ML_Task_01\\dataset_combined.csv\")\n",
    "print(df)"
   ]
  },
  {
   "cell_type": "code",
   "execution_count": 2,
   "id": "2bc5e986",
   "metadata": {},
   "outputs": [],
   "source": [
    "import numpy as np\n",
    "from sklearn.model_selection import train_test_split\n",
    "\n",
    "train, test = train_test_split(df, test_size=0.3, random_state = 8, stratify=df['Identity'])"
   ]
  },
  {
   "cell_type": "code",
   "execution_count": 3,
   "id": "2903268b",
   "metadata": {},
   "outputs": [
    {
     "data": {
      "text/html": [
       "<div>\n",
       "<style scoped>\n",
       "    .dataframe tbody tr th:only-of-type {\n",
       "        vertical-align: middle;\n",
       "    }\n",
       "\n",
       "    .dataframe tbody tr th {\n",
       "        vertical-align: top;\n",
       "    }\n",
       "\n",
       "    .dataframe thead th {\n",
       "        text-align: right;\n",
       "    }\n",
       "</style>\n",
       "<table border=\"1\" class=\"dataframe\">\n",
       "  <thead>\n",
       "    <tr style=\"text-align: right;\">\n",
       "      <th></th>\n",
       "      <th>Age</th>\n",
       "    </tr>\n",
       "  </thead>\n",
       "  <tbody>\n",
       "    <tr>\n",
       "      <th>count</th>\n",
       "      <td>69.000000</td>\n",
       "    </tr>\n",
       "    <tr>\n",
       "      <th>mean</th>\n",
       "      <td>59.492754</td>\n",
       "    </tr>\n",
       "    <tr>\n",
       "      <th>std</th>\n",
       "      <td>16.581016</td>\n",
       "    </tr>\n",
       "    <tr>\n",
       "      <th>min</th>\n",
       "      <td>18.000000</td>\n",
       "    </tr>\n",
       "    <tr>\n",
       "      <th>25%</th>\n",
       "      <td>46.000000</td>\n",
       "    </tr>\n",
       "    <tr>\n",
       "      <th>50%</th>\n",
       "      <td>59.000000</td>\n",
       "    </tr>\n",
       "    <tr>\n",
       "      <th>75%</th>\n",
       "      <td>72.000000</td>\n",
       "    </tr>\n",
       "    <tr>\n",
       "      <th>max</th>\n",
       "      <td>96.000000</td>\n",
       "    </tr>\n",
       "  </tbody>\n",
       "</table>\n",
       "</div>"
      ],
      "text/plain": [
       "             Age\n",
       "count  69.000000\n",
       "mean   59.492754\n",
       "std    16.581016\n",
       "min    18.000000\n",
       "25%    46.000000\n",
       "50%    59.000000\n",
       "75%    72.000000\n",
       "max    96.000000"
      ]
     },
     "execution_count": 3,
     "metadata": {},
     "output_type": "execute_result"
    }
   ],
   "source": [
    "train.loc[train['Identity'] == 'Unknown'].describe() \n",
    "#crosschecking that we have successfully applied stratified split on the dataframe"
   ]
  },
  {
   "cell_type": "code",
   "execution_count": 4,
   "id": "6ac3cc40",
   "metadata": {},
   "outputs": [
    {
     "name": "stdout",
     "output_type": "stream",
     "text": [
      "5      C:\\Users\\User\\Desktop\\Machine Learning\\Persona...\n",
      "26     C:\\Users\\User\\Desktop\\Machine Learning\\Persona...\n",
      "59     C:\\Users\\User\\Desktop\\Machine Learning\\Persona...\n",
      "74     C:\\Users\\User\\Desktop\\Machine Learning\\Persona...\n",
      "141    C:\\Users\\User\\Desktop\\Machine Learning\\Other\\C...\n",
      "14     C:\\Users\\User\\Desktop\\Machine Learning\\Persona...\n",
      "75     C:\\Users\\User\\Desktop\\Machine Learning\\Persona...\n",
      "149    C:\\Users\\User\\Desktop\\Machine Learning\\Other\\C...\n",
      "174    C:\\Users\\User\\Desktop\\Machine Learning\\Other\\E...\n",
      "129    C:\\Users\\User\\Desktop\\Machine Learning\\Other\\B...\n",
      "107    C:\\Users\\User\\Desktop\\Machine Learning\\Other\\A...\n",
      "115    C:\\Users\\User\\Desktop\\Machine Learning\\Other\\A...\n",
      "108    C:\\Users\\User\\Desktop\\Machine Learning\\Other\\A...\n",
      "116    C:\\Users\\User\\Desktop\\Machine Learning\\Other\\A...\n",
      "176    C:\\Users\\User\\Desktop\\Machine Learning\\Other\\E...\n",
      "128    C:\\Users\\User\\Desktop\\Machine Learning\\Other\\B...\n",
      "91     C:\\Users\\User\\Desktop\\Machine Learning\\Persona...\n",
      "8      C:\\Users\\User\\Desktop\\Machine Learning\\Persona...\n",
      "166    C:\\Users\\User\\Desktop\\Machine Learning\\Other\\D...\n",
      "132    C:\\Users\\User\\Desktop\\Machine Learning\\Other\\B...\n",
      "61     C:\\Users\\User\\Desktop\\Machine Learning\\Persona...\n",
      "183    C:\\Users\\User\\Desktop\\Machine Learning\\Other\\F...\n",
      "189    C:\\Users\\User\\Desktop\\Machine Learning\\Other\\G...\n",
      "133    C:\\Users\\User\\Desktop\\Machine Learning\\Other\\B...\n",
      "148    C:\\Users\\User\\Desktop\\Machine Learning\\Other\\C...\n",
      "48     C:\\Users\\User\\Desktop\\Machine Learning\\Persona...\n",
      "145    C:\\Users\\User\\Desktop\\Machine Learning\\Other\\C...\n",
      "13     C:\\Users\\User\\Desktop\\Machine Learning\\Persona...\n",
      "139    C:\\Users\\User\\Desktop\\Machine Learning\\Other\\C...\n",
      "177    C:\\Users\\User\\Desktop\\Machine Learning\\Other\\F...\n",
      "49     C:\\Users\\User\\Desktop\\Machine Learning\\Persona...\n",
      "71     C:\\Users\\User\\Desktop\\Machine Learning\\Persona...\n",
      "85     C:\\Users\\User\\Desktop\\Machine Learning\\Persona...\n",
      "134    C:\\Users\\User\\Desktop\\Machine Learning\\Other\\B...\n",
      "27     C:\\Users\\User\\Desktop\\Machine Learning\\Persona...\n",
      "60     C:\\Users\\User\\Desktop\\Machine Learning\\Persona...\n",
      "84     C:\\Users\\User\\Desktop\\Machine Learning\\Persona...\n",
      "53     C:\\Users\\User\\Desktop\\Machine Learning\\Persona...\n",
      "122    C:\\Users\\User\\Desktop\\Machine Learning\\Other\\B...\n",
      "15     C:\\Users\\User\\Desktop\\Machine Learning\\Persona...\n",
      "67     C:\\Users\\User\\Desktop\\Machine Learning\\Persona...\n",
      "194    C:\\Users\\User\\Desktop\\Machine Learning\\Other\\G...\n",
      "68     C:\\Users\\User\\Desktop\\Machine Learning\\Persona...\n",
      "156    C:\\Users\\User\\Desktop\\Machine Learning\\Other\\D...\n",
      "160    C:\\Users\\User\\Desktop\\Machine Learning\\Other\\D...\n",
      "135    C:\\Users\\User\\Desktop\\Machine Learning\\Other\\C...\n",
      "56     C:\\Users\\User\\Desktop\\Machine Learning\\Persona...\n",
      "162    C:\\Users\\User\\Desktop\\Machine Learning\\Other\\D...\n",
      "164    C:\\Users\\User\\Desktop\\Machine Learning\\Other\\D...\n",
      "63     C:\\Users\\User\\Desktop\\Machine Learning\\Persona...\n",
      "9      C:\\Users\\User\\Desktop\\Machine Learning\\Persona...\n",
      "83     C:\\Users\\User\\Desktop\\Machine Learning\\Persona...\n",
      "42     C:\\Users\\User\\Desktop\\Machine Learning\\Persona...\n",
      "170    C:\\Users\\User\\Desktop\\Machine Learning\\Other\\D...\n",
      "51     C:\\Users\\User\\Desktop\\Machine Learning\\Persona...\n",
      "18     C:\\Users\\User\\Desktop\\Machine Learning\\Persona...\n",
      "143    C:\\Users\\User\\Desktop\\Machine Learning\\Other\\C...\n",
      "124    C:\\Users\\User\\Desktop\\Machine Learning\\Other\\B...\n",
      "90     C:\\Users\\User\\Desktop\\Machine Learning\\Persona...\n",
      "82     C:\\Users\\User\\Desktop\\Machine Learning\\Persona...\n",
      "Name: Path, dtype: object\n"
     ]
    }
   ],
   "source": [
    "X_data = train['Path']\n",
    "X_tdata = test['Path']\n",
    "\n",
    "print(X_tdata)\n",
    "y1_train = train['Identity']\n",
    "y2_train = train['Expression']\n",
    "y3_train = train['Age']\n",
    "y1_test = test['Identity']\n",
    "y2_test = test['Expression']\n",
    "y3_test = test['Age']"
   ]
  },
  {
   "cell_type": "code",
   "execution_count": 5,
   "id": "db5ccc24",
   "metadata": {},
   "outputs": [
    {
     "name": "stdout",
     "output_type": "stream",
     "text": [
      "C:\\Users\\User\\Desktop\\Machine Learning\\Personal_Img_Dataset\\Hamza (6).jpeg\n",
      "C:\\Users\\User\\Desktop\\Machine Learning\\Personal_Img_Dataset\\Hamza (27).jpeg\n",
      "C:\\Users\\User\\Desktop\\Machine Learning\\Personal_Img_Dataset\\Hamza (60).jpeg\n",
      "C:\\Users\\User\\Desktop\\Machine Learning\\Personal_Img_Dataset\\Hamza (75).jpeg\n",
      "C:\\Users\\User\\Desktop\\Machine Learning\\Other\\Chan_Choi_0001.jpg\n",
      "C:\\Users\\User\\Desktop\\Machine Learning\\Personal_Img_Dataset\\Hamza (15).jpeg\n",
      "C:\\Users\\User\\Desktop\\Machine Learning\\Personal_Img_Dataset\\Hamza (76).jpeg\n",
      "C:\\Users\\User\\Desktop\\Machine Learning\\Other\\Christy_Ferer_0001.jpg\n",
      "C:\\Users\\User\\Desktop\\Machine Learning\\Other\\Elliott_Mincberg_0001.jpg\n",
      "C:\\Users\\User\\Desktop\\Machine Learning\\Other\\Brandon_Larson_0001.jpg\n"
     ]
    }
   ],
   "source": [
    "count = 0\n",
    "for row in X_tdata:\n",
    "    print(row)\n",
    "    count += 1 \n",
    "    if count == 10:\n",
    "        break"
   ]
  },
  {
   "cell_type": "code",
   "execution_count": 6,
   "id": "06272321",
   "metadata": {},
   "outputs": [
    {
     "data": {
      "text/plain": [
       "5      Hamza Ahmad\n",
       "26     Hamza Ahmad\n",
       "59     Hamza Ahmad\n",
       "74     Hamza Ahmad\n",
       "141        Unknown\n",
       "14     Hamza Ahmad\n",
       "75     Hamza Ahmad\n",
       "149        Unknown\n",
       "174        Unknown\n",
       "129        Unknown\n",
       "Name: Identity, dtype: object"
      ]
     },
     "execution_count": 6,
     "metadata": {},
     "output_type": "execute_result"
    }
   ],
   "source": [
    "y1_test.head(10)"
   ]
  },
  {
   "cell_type": "code",
   "execution_count": 7,
   "id": "1ee2ee30",
   "metadata": {},
   "outputs": [
    {
     "name": "stdout",
     "output_type": "stream",
     "text": [
      "[[1.66328144e-09 1.48220307e-10 3.34815671e-09 ... 2.63400130e-04\n",
      "  2.22062786e-04 2.04710808e-04]\n",
      " [1.99298316e-04 2.02587713e-04 1.88838869e-04 ... 6.28311026e-04\n",
      "  6.06393260e-04 8.88015225e-04]\n",
      " [3.10124324e-09 1.57079063e-10 1.57079063e-10 ... 1.81432339e-03\n",
      "  1.41550950e-03 9.77741324e-04]\n",
      " ...\n",
      " [5.04840641e-04 9.56297262e-04 1.39210290e-03 ... 1.38349955e-04\n",
      "  1.58237794e-04 1.28406035e-04]\n",
      " [1.61878305e-03 2.13411590e-03 1.80315050e-03 ... 1.23263813e-03\n",
      "  1.85697672e-03 2.24190460e-03]\n",
      " [4.68443181e-05 5.84830333e-04 5.93216721e-04 ... 2.68682389e-03\n",
      "  2.61408306e-03 2.28979254e-03]]\n"
     ]
    }
   ],
   "source": [
    "import skimage\n",
    "from skimage import io\n",
    "from skimage import transform\n",
    "\n",
    "lst = []\n",
    "for path in X_data:\n",
    "    curr_image = io.imread(path)\n",
    "    img_resize = transform.resize(curr_image, output_shape=(32,32,3)) #resize image to match a certain type\n",
    "    img_reshape = np.reshape(img_resize, (32*32*3))\n",
    "    lst.append(img_reshape/255.)\n",
    "    \n",
    "X_train = np.array(lst)\n",
    "print(X_train)"
   ]
  },
  {
   "cell_type": "code",
   "execution_count": 8,
   "id": "498681d2",
   "metadata": {},
   "outputs": [
    {
     "name": "stdout",
     "output_type": "stream",
     "text": [
      "[[2.75277989e-03 2.60174350e-03 2.45682991e-03 ... 4.36705111e-04\n",
      "  5.07810901e-04 5.67416199e-04]\n",
      " [2.34106457e-03 2.25178633e-03 1.96361216e-03 ... 3.41715368e-03\n",
      "  3.41914867e-03 3.41800007e-03]\n",
      " [2.14927631e-04 1.84170230e-04 2.61063733e-04 ... 1.04921582e-04\n",
      "  8.23339448e-05 1.49411809e-04]\n",
      " ...\n",
      " [1.28461642e-04 2.10115445e-05 3.62148388e-05 ... 5.11418633e-05\n",
      "  5.08983248e-05 4.92253953e-05]\n",
      " [2.33774172e-03 2.05714772e-03 1.83942471e-03 ... 3.48423563e-04\n",
      "  4.69907944e-04 6.10403516e-04]\n",
      " [3.56410490e-03 3.07061025e-03 2.59123581e-03 ... 9.68124697e-04\n",
      "  8.08767662e-04 7.37399108e-04]]\n"
     ]
    }
   ],
   "source": [
    "lst = []\n",
    "for path in X_tdata:\n",
    "    curr_image = io.imread(path)\n",
    "    img_resize = transform.resize(curr_image, output_shape=(32,32,3))\n",
    "    img_reshape = np.reshape(img_resize, (32*32*3))\n",
    "    lst.append(img_reshape/255.)\n",
    "    \n",
    "X_test = np.array(lst)\n",
    "print(X_test)"
   ]
  },
  {
   "cell_type": "code",
   "execution_count": 9,
   "id": "54842b72",
   "metadata": {},
   "outputs": [
    {
     "data": {
      "text/plain": [
       "(60, 3072)"
      ]
     },
     "execution_count": 9,
     "metadata": {},
     "output_type": "execute_result"
    }
   ],
   "source": [
    "X_test.shape"
   ]
  },
  {
   "cell_type": "code",
   "execution_count": 10,
   "id": "e181e1cc",
   "metadata": {},
   "outputs": [
    {
     "name": "stdout",
     "output_type": "stream",
     "text": [
      "Regression Coefficients:  [[-0.04624835 -0.0407571  -0.03488971 ... -0.02118058 -0.02392305\n",
      "  -0.03165761]]\n",
      "Accuracy: 0.75\n"
     ]
    }
   ],
   "source": [
    "from sklearn.linear_model import LogisticRegression\n",
    "import joblib\n",
    "\n",
    "# Initialize the logistic regression model\n",
    "model = LogisticRegression(multi_class='ovr', solver='liblinear')\n",
    "\n",
    "model.fit(X_train, y1_train)\n",
    "\n",
    "# Save the trained model to a file\n",
    "joblib.dump(model, 'logistic_regression_model.pkl')\n",
    "#we can load this model using joblib.load\n",
    "\n",
    "# Print the learned regression coefficients\n",
    "print(\"Regression Coefficients: \", model.coef_)\n",
    "#training the model\n",
    "y_pred = model.predict(X_test)\n",
    "\n",
    "# Evaluate the model on the testing data\n",
    "score = model.score(X_test, y1_test)\n",
    "\n",
    "print(\"Accuracy:\", score)"
   ]
  },
  {
   "cell_type": "code",
   "execution_count": 11,
   "id": "c204bf0e",
   "metadata": {},
   "outputs": [
    {
     "name": "stdout",
     "output_type": "stream",
     "text": [
      "Regression Coefficients:  [[ 0.00837061  0.00625873  0.0065526  ... -0.0252397  -0.02261165\n",
      "  -0.02025799]]\n",
      "Accuracy: 0.5333333333333333\n"
     ]
    }
   ],
   "source": [
    "#Now training new model for prediciting expression\n",
    "model2 = LogisticRegression(multi_class='ovr', solver='liblinear')\n",
    "\n",
    "model2.fit(X_train, y2_train)\n",
    "\n",
    "joblib.dump(model2, 'logistic_regression_model2.pkl')\n",
    "\n",
    "print(\"Regression Coefficients: \", model2.coef_)\n",
    "#training the model\n",
    "y_pred = model2.predict(X_test)\n",
    "\n",
    "# Evaluate the model on the testing data\n",
    "score = model2.score(X_test, y2_test)\n",
    "\n",
    "print(\"Accuracy:\", score)"
   ]
  },
  {
   "cell_type": "code",
   "execution_count": 12,
   "id": "903e348b",
   "metadata": {
    "scrolled": true
   },
   "outputs": [],
   "source": [
    "import cv2\n",
    "import joblib\n",
    "\n",
    "logisticRegressionModel = joblib.load(\"logistic_regression_model.pkl\")\n",
    "logisticRegresssionModel_exp = joblib.load(\"logistic_regression_model2.pkl\")\n",
    "SGDRegressor = joblib.load(\"ElasticNetCV.pkl\")"
   ]
  },
  {
   "cell_type": "code",
   "execution_count": 13,
   "id": "b02a9b5e",
   "metadata": {},
   "outputs": [],
   "source": [
    "def preprocess(frame):\n",
    "    resized_frame = cv2.resize(frame, (32, 32))\n",
    "    flattened_frame = np.reshape(resized_frame, (1, -1))\n",
    "    return flattened_frame/255."
   ]
  },
  {
   "cell_type": "code",
   "execution_count": 14,
   "id": "076856f1",
   "metadata": {},
   "outputs": [],
   "source": [
    "cv2.namedWindow(\"preview\") #creates a window named \"preview\" that will be used to display the video feed.\n",
    "vc = cv2.VideoCapture(0) #creates a VideoCapture object, which is used to capture video from a camera. \n",
    "#The argument 0 specifies the camera index, meaning that the script will use the default camera on the computer.\n",
    "\n",
    "if vc.isOpened(): #checks if the camera is successfully opened\n",
    "    rval, frame = vc.read()\n",
    "else:\n",
    "    rval = False\n",
    "\n",
    "while rval:\n",
    "    frame_processed = preprocess(frame)\n",
    "    \n",
    "    identity = logisticRegressionModel.predict(frame_processed)\n",
    "    age2 = SGDRegressor.predict(frame_processed)\n",
    "    expr = logisticRegresssionModel_exp.predict(frame_processed)\n",
    "    \n",
    "    # Display the age predictions alongside the video feed\n",
    "    cv2.putText(frame, f\"Model 1: {identity}\", (50, 50), cv2.FONT_HERSHEY_SIMPLEX, 1, (0, 255, 0), 2, cv2.LINE_AA)\n",
    "    cv2.putText(frame, f\"Model 2: {age2}\", (50, 100), cv2.FONT_HERSHEY_SIMPLEX, 1, (0, 255, 0), 2, cv2.LINE_AA)\n",
    "    cv2.putText(frame, f\"Model 3: {expr}\", (50, 150), cv2.FONT_HERSHEY_SIMPLEX, 1, (0, 255, 0), 2, cv2.LINE_AA)\n",
    "    \n",
    "    #This loop captures frames of video from the camera and displays them in the \"preview\" window.\n",
    "    cv2.imshow(\"preview\", frame) #displays the frame in the \"preview\" window\n",
    "    rval, frame = vc.read() #reads a frame from the camera, and the resulting image is stored in the frame variable\n",
    "    \n",
    "    key = cv2.waitKey(20) #waits for a key to be pressed for 20 milliseconds\n",
    "    if key == 27: # exit on ESC\n",
    "        break\n",
    "\n",
    "vc.release() #releases the camera\n",
    "cv2.destroyWindow(\"preview\") #destroys the \"preview\" window."
   ]
  },
  {
   "cell_type": "code",
   "execution_count": 15,
   "id": "4b87b199",
   "metadata": {},
   "outputs": [
    {
     "name": "stdout",
     "output_type": "stream",
     "text": [
      "['Hamza Ahmad' 'Hamza Ahmad' 'Unknown' 'Hamza Ahmad' 'Unknown'\n",
      " 'Hamza Ahmad' 'Hamza Ahmad' 'Unknown' 'Unknown' 'Unknown' 'Unknown'\n",
      " 'Unknown' 'Unknown' 'Unknown' 'Hamza Ahmad' 'Unknown' 'Hamza Ahmad'\n",
      " 'Hamza Ahmad' 'Unknown' 'Unknown' 'Unknown' 'Unknown' 'Unknown'\n",
      " 'Hamza Ahmad' 'Unknown' 'Hamza Ahmad' 'Hamza Ahmad' 'Hamza Ahmad'\n",
      " 'Unknown' 'Unknown' 'Hamza Ahmad' 'Hamza Ahmad' 'Unknown' 'Unknown'\n",
      " 'Hamza Ahmad' 'Unknown' 'Unknown' 'Hamza Ahmad' 'Unknown' 'Hamza Ahmad'\n",
      " 'Hamza Ahmad' 'Hamza Ahmad' 'Hamza Ahmad' 'Unknown' 'Hamza Ahmad'\n",
      " 'Hamza Ahmad' 'Unknown' 'Unknown' 'Hamza Ahmad' 'Unknown' 'Hamza Ahmad'\n",
      " 'Hamza Ahmad' 'Hamza Ahmad' 'Hamza Ahmad' 'Hamza Ahmad' 'Hamza Ahmad'\n",
      " 'Unknown' 'Unknown' 'Hamza Ahmad' 'Hamza Ahmad']\n"
     ]
    }
   ],
   "source": [
    "sample = X_test[6]  \n",
    "sample = sample.reshape(1, -1)  \n",
    "var = logisticRegressionModel.predict(X_test)\n",
    "print(var)\n"
   ]
  },
  {
   "cell_type": "code",
   "execution_count": 16,
   "id": "de914d0f",
   "metadata": {},
   "outputs": [
    {
     "name": "stdout",
     "output_type": "stream",
     "text": [
      "Running on local URL:  http://127.0.0.1:7860\n",
      "\n",
      "To create a public link, set `share=True` in `launch()`.\n"
     ]
    },
    {
     "data": {
      "text/html": [
       "<div><iframe src=\"http://127.0.0.1:7860/\" width=\"100%\" height=\"500\" allow=\"autoplay; camera; microphone; clipboard-read; clipboard-write;\" frameborder=\"0\" allowfullscreen></iframe></div>"
      ],
      "text/plain": [
       "<IPython.core.display.HTML object>"
      ]
     },
     "metadata": {},
     "output_type": "display_data"
    },
    {
     "data": {
      "text/plain": []
     },
     "execution_count": 16,
     "metadata": {},
     "output_type": "execute_result"
    }
   ],
   "source": [
    "import gradio as gr\n",
    "import numpy\n",
    "\n",
    "def publish(img):\n",
    "    img_resize = transform.resize(img, output_shape=(32,32,3))\n",
    "    img_reshape = np.reshape(img_resize, (32*32*3))/255.\n",
    "    img_reshape = np.expand_dims(img_reshape, axis=0)\n",
    "    \n",
    "    preds = logisticRegressionModel.predict(img_reshape)\n",
    "    prob = logisticRegressionModel.predict_proba(img_reshape)\n",
    "    \n",
    "    if prob[0][0] > prob[0][1]:\n",
    "        prob = prob[0][0]\n",
    "    else:\n",
    "        prob = prob[0][1]\n",
    "    \n",
    "    return preds[0] + \" with probability \" + str(prob)\n",
    "\n",
    "\n",
    "demo = gr.Interface(publish, gr.Image(), \"text\")\n",
    "\n",
    "demo.launch()"
   ]
  },
  {
   "cell_type": "code",
   "execution_count": null,
   "id": "bd0f0f42",
   "metadata": {},
   "outputs": [],
   "source": []
  },
  {
   "cell_type": "code",
   "execution_count": null,
   "id": "6d480793",
   "metadata": {},
   "outputs": [],
   "source": []
  }
 ],
 "metadata": {
  "kernelspec": {
   "display_name": "Python 3 (ipykernel)",
   "language": "python",
   "name": "python3"
  },
  "language_info": {
   "codemirror_mode": {
    "name": "ipython",
    "version": 3
   },
   "file_extension": ".py",
   "mimetype": "text/x-python",
   "name": "python",
   "nbconvert_exporter": "python",
   "pygments_lexer": "ipython3",
   "version": "3.9.13"
  }
 },
 "nbformat": 4,
 "nbformat_minor": 5
}
