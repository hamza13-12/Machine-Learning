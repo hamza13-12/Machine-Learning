{
 "cells": [
  {
   "cell_type": "code",
   "execution_count": 4,
   "id": "b59ea76f",
   "metadata": {},
   "outputs": [],
   "source": [
    "import cv2\n",
    "import joblib\n",
    "import numpy as np\n",
    "\n",
    "#linearRegressionModel = joblib.load(\"linear_regression_model.pkl\")\n",
    "SGDRegressor = joblib.load(\"ElasticNetCV.pkl\") #using best model here"
   ]
  },
  {
   "cell_type": "code",
   "execution_count": 5,
   "id": "106b0ceb",
   "metadata": {},
   "outputs": [],
   "source": [
    "def preprocess(frame):\n",
    "    resized_frame = cv2.resize(frame, (32, 32))\n",
    "    flattened_frame = np.reshape(resized_frame, (1, -1))\n",
    "    return flattened_frame/255."
   ]
  },
  {
   "cell_type": "code",
   "execution_count": 7,
   "id": "0ec1342b",
   "metadata": {},
   "outputs": [],
   "source": [
    "cv2.namedWindow(\"preview\") #creates a window named \"preview\" that will be used to display the video feed.\n",
    "vc = cv2.VideoCapture(0) #creates a VideoCapture object, which is used to capture video from a camera. \n",
    "#The argument 0 specifies the camera index, meaning that the script will use the default camera on the computer.\n",
    "\n",
    "if vc.isOpened(): #checks if the camera is successfully opened\n",
    "    rval, frame = vc.read()\n",
    "else:\n",
    "    rval = False\n",
    "\n",
    "while rval:\n",
    "    frame_processed = preprocess(frame)\n",
    "    \n",
    "    #age1 = linearRegressionModel.predict(frame_processed)\n",
    "    age2 = SGDRegressor.predict(frame_processed)\n",
    "    \n",
    "    # Display the age predictions alongside the video feed\n",
    "    #cv2.putText(frame, f\"Model 1: {age1}\", (50, 50), cv2.FONT_HERSHEY_SIMPLEX, 1, (0, 255, 0), 2, cv2.LINE_AA)\n",
    "    cv2.putText(frame, f\"Best Model: {age2}\", (50, 50), cv2.FONT_HERSHEY_SIMPLEX, 1, (0, 255, 0), 2, cv2.LINE_AA)\n",
    "    \n",
    "    #This loop captures frames of video from the camera and displays them in the \"preview\" window.\n",
    "    cv2.imshow(\"preview\", frame) #displays the frame in the \"preview\" window\n",
    "    rval, frame = vc.read() #reads a frame from the camera, and the resulting image is stored in the frame variable\n",
    "    \n",
    "    key = cv2.waitKey(20) #waits for a key to be pressed for 20 milliseconds\n",
    "    if key == 27: # exit on ESC\n",
    "        break\n",
    "\n",
    "vc.release() #releases the camera\n",
    "cv2.destroyWindow(\"preview\") #destroys the \"preview\" window."
   ]
  },
  {
   "cell_type": "code",
   "execution_count": null,
   "id": "375f0059",
   "metadata": {},
   "outputs": [],
   "source": []
  },
  {
   "cell_type": "code",
   "execution_count": null,
   "id": "64e05a63",
   "metadata": {},
   "outputs": [],
   "source": []
  },
  {
   "cell_type": "code",
   "execution_count": null,
   "id": "4c70a255",
   "metadata": {},
   "outputs": [],
   "source": []
  }
 ],
 "metadata": {
  "kernelspec": {
   "display_name": "Python 3 (ipykernel)",
   "language": "python",
   "name": "python3"
  },
  "language_info": {
   "codemirror_mode": {
    "name": "ipython",
    "version": 3
   },
   "file_extension": ".py",
   "mimetype": "text/x-python",
   "name": "python",
   "nbconvert_exporter": "python",
   "pygments_lexer": "ipython3",
   "version": "3.9.13"
  }
 },
 "nbformat": 4,
 "nbformat_minor": 5
}
